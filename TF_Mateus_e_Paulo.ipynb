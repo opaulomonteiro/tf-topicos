{
 "cells": [
  {
   "cell_type": "code",
   "execution_count": 8,
   "metadata": {
    "colab": {
     "base_uri": "https://localhost:8080/",
     "height": 170
    },
    "colab_type": "code",
    "id": "48i0xZsEVQgl",
    "outputId": "613e353f-a866-4073-cb3f-69cf598ab2bd"
   },
   "outputs": [
    {
     "name": "stdout",
     "output_type": "stream",
     "text": [
      "Requirement already satisfied: ipython-autotime in /home/paulo/.local/lib/python3.8/site-packages (0.1)\n",
      "The autotime extension is already loaded. To reload it, use:\n",
      "  %reload_ext autotime\n",
      "time: 1.53 s\n"
     ]
    }
   ],
   "source": [
    "!pip3 install ipython-autotime\n",
    "\n",
    "%load_ext autotime"
   ]
  },
  {
   "cell_type": "markdown",
   "metadata": {},
   "source": [
    "## Análise dos dados"
   ]
  },
  {
   "cell_type": "code",
   "execution_count": 9,
   "metadata": {
    "colab": {
     "base_uri": "https://localhost:8080/",
     "height": 393
    },
    "colab_type": "code",
    "id": "CKmHCd81fKks",
    "outputId": "62250edb-4a6d-43f7-d1c1-4724aeb32017"
   },
   "outputs": [
    {
     "data": {
      "text/html": [
       "<div>\n",
       "<style scoped>\n",
       "    .dataframe tbody tr th:only-of-type {\n",
       "        vertical-align: middle;\n",
       "    }\n",
       "\n",
       "    .dataframe tbody tr th {\n",
       "        vertical-align: top;\n",
       "    }\n",
       "\n",
       "    .dataframe thead th {\n",
       "        text-align: right;\n",
       "    }\n",
       "</style>\n",
       "<table border=\"1\" class=\"dataframe\">\n",
       "  <thead>\n",
       "    <tr style=\"text-align: right;\">\n",
       "      <th></th>\n",
       "      <th>age</th>\n",
       "      <th>job</th>\n",
       "      <th>marital</th>\n",
       "      <th>education</th>\n",
       "      <th>default</th>\n",
       "      <th>balance</th>\n",
       "      <th>housing</th>\n",
       "      <th>loan</th>\n",
       "      <th>contact</th>\n",
       "      <th>day</th>\n",
       "      <th>month</th>\n",
       "      <th>duration</th>\n",
       "      <th>campaign</th>\n",
       "      <th>pdays</th>\n",
       "      <th>previous</th>\n",
       "      <th>poutcome</th>\n",
       "      <th>y</th>\n",
       "    </tr>\n",
       "  </thead>\n",
       "  <tbody>\n",
       "    <tr>\n",
       "      <th>0</th>\n",
       "      <td>58</td>\n",
       "      <td>management</td>\n",
       "      <td>married</td>\n",
       "      <td>tertiary</td>\n",
       "      <td>no</td>\n",
       "      <td>2143</td>\n",
       "      <td>yes</td>\n",
       "      <td>no</td>\n",
       "      <td>unknown</td>\n",
       "      <td>5</td>\n",
       "      <td>may</td>\n",
       "      <td>261</td>\n",
       "      <td>1</td>\n",
       "      <td>-1</td>\n",
       "      <td>0</td>\n",
       "      <td>unknown</td>\n",
       "      <td>no</td>\n",
       "    </tr>\n",
       "    <tr>\n",
       "      <th>1</th>\n",
       "      <td>44</td>\n",
       "      <td>technician</td>\n",
       "      <td>single</td>\n",
       "      <td>secondary</td>\n",
       "      <td>no</td>\n",
       "      <td>29</td>\n",
       "      <td>yes</td>\n",
       "      <td>no</td>\n",
       "      <td>unknown</td>\n",
       "      <td>5</td>\n",
       "      <td>may</td>\n",
       "      <td>151</td>\n",
       "      <td>1</td>\n",
       "      <td>-1</td>\n",
       "      <td>0</td>\n",
       "      <td>unknown</td>\n",
       "      <td>no</td>\n",
       "    </tr>\n",
       "    <tr>\n",
       "      <th>2</th>\n",
       "      <td>33</td>\n",
       "      <td>entrepreneur</td>\n",
       "      <td>married</td>\n",
       "      <td>secondary</td>\n",
       "      <td>no</td>\n",
       "      <td>2</td>\n",
       "      <td>yes</td>\n",
       "      <td>yes</td>\n",
       "      <td>unknown</td>\n",
       "      <td>5</td>\n",
       "      <td>may</td>\n",
       "      <td>76</td>\n",
       "      <td>1</td>\n",
       "      <td>-1</td>\n",
       "      <td>0</td>\n",
       "      <td>unknown</td>\n",
       "      <td>no</td>\n",
       "    </tr>\n",
       "    <tr>\n",
       "      <th>3</th>\n",
       "      <td>47</td>\n",
       "      <td>blue-collar</td>\n",
       "      <td>married</td>\n",
       "      <td>unknown</td>\n",
       "      <td>no</td>\n",
       "      <td>1506</td>\n",
       "      <td>yes</td>\n",
       "      <td>no</td>\n",
       "      <td>unknown</td>\n",
       "      <td>5</td>\n",
       "      <td>may</td>\n",
       "      <td>92</td>\n",
       "      <td>1</td>\n",
       "      <td>-1</td>\n",
       "      <td>0</td>\n",
       "      <td>unknown</td>\n",
       "      <td>no</td>\n",
       "    </tr>\n",
       "    <tr>\n",
       "      <th>4</th>\n",
       "      <td>33</td>\n",
       "      <td>unknown</td>\n",
       "      <td>single</td>\n",
       "      <td>unknown</td>\n",
       "      <td>no</td>\n",
       "      <td>1</td>\n",
       "      <td>no</td>\n",
       "      <td>no</td>\n",
       "      <td>unknown</td>\n",
       "      <td>5</td>\n",
       "      <td>may</td>\n",
       "      <td>198</td>\n",
       "      <td>1</td>\n",
       "      <td>-1</td>\n",
       "      <td>0</td>\n",
       "      <td>unknown</td>\n",
       "      <td>no</td>\n",
       "    </tr>\n",
       "    <tr>\n",
       "      <th>5</th>\n",
       "      <td>35</td>\n",
       "      <td>management</td>\n",
       "      <td>married</td>\n",
       "      <td>tertiary</td>\n",
       "      <td>no</td>\n",
       "      <td>231</td>\n",
       "      <td>yes</td>\n",
       "      <td>no</td>\n",
       "      <td>unknown</td>\n",
       "      <td>5</td>\n",
       "      <td>may</td>\n",
       "      <td>139</td>\n",
       "      <td>1</td>\n",
       "      <td>-1</td>\n",
       "      <td>0</td>\n",
       "      <td>unknown</td>\n",
       "      <td>no</td>\n",
       "    </tr>\n",
       "    <tr>\n",
       "      <th>6</th>\n",
       "      <td>28</td>\n",
       "      <td>management</td>\n",
       "      <td>single</td>\n",
       "      <td>tertiary</td>\n",
       "      <td>no</td>\n",
       "      <td>447</td>\n",
       "      <td>yes</td>\n",
       "      <td>yes</td>\n",
       "      <td>unknown</td>\n",
       "      <td>5</td>\n",
       "      <td>may</td>\n",
       "      <td>217</td>\n",
       "      <td>1</td>\n",
       "      <td>-1</td>\n",
       "      <td>0</td>\n",
       "      <td>unknown</td>\n",
       "      <td>no</td>\n",
       "    </tr>\n",
       "    <tr>\n",
       "      <th>7</th>\n",
       "      <td>42</td>\n",
       "      <td>entrepreneur</td>\n",
       "      <td>divorced</td>\n",
       "      <td>tertiary</td>\n",
       "      <td>yes</td>\n",
       "      <td>2</td>\n",
       "      <td>yes</td>\n",
       "      <td>no</td>\n",
       "      <td>unknown</td>\n",
       "      <td>5</td>\n",
       "      <td>may</td>\n",
       "      <td>380</td>\n",
       "      <td>1</td>\n",
       "      <td>-1</td>\n",
       "      <td>0</td>\n",
       "      <td>unknown</td>\n",
       "      <td>no</td>\n",
       "    </tr>\n",
       "    <tr>\n",
       "      <th>8</th>\n",
       "      <td>58</td>\n",
       "      <td>retired</td>\n",
       "      <td>married</td>\n",
       "      <td>primary</td>\n",
       "      <td>no</td>\n",
       "      <td>121</td>\n",
       "      <td>yes</td>\n",
       "      <td>no</td>\n",
       "      <td>unknown</td>\n",
       "      <td>5</td>\n",
       "      <td>may</td>\n",
       "      <td>50</td>\n",
       "      <td>1</td>\n",
       "      <td>-1</td>\n",
       "      <td>0</td>\n",
       "      <td>unknown</td>\n",
       "      <td>no</td>\n",
       "    </tr>\n",
       "    <tr>\n",
       "      <th>9</th>\n",
       "      <td>43</td>\n",
       "      <td>technician</td>\n",
       "      <td>single</td>\n",
       "      <td>secondary</td>\n",
       "      <td>no</td>\n",
       "      <td>593</td>\n",
       "      <td>yes</td>\n",
       "      <td>no</td>\n",
       "      <td>unknown</td>\n",
       "      <td>5</td>\n",
       "      <td>may</td>\n",
       "      <td>55</td>\n",
       "      <td>1</td>\n",
       "      <td>-1</td>\n",
       "      <td>0</td>\n",
       "      <td>unknown</td>\n",
       "      <td>no</td>\n",
       "    </tr>\n",
       "  </tbody>\n",
       "</table>\n",
       "</div>"
      ],
      "text/plain": [
       "   age           job   marital  education default  balance housing loan  \\\n",
       "0   58    management   married   tertiary      no     2143     yes   no   \n",
       "1   44    technician    single  secondary      no       29     yes   no   \n",
       "2   33  entrepreneur   married  secondary      no        2     yes  yes   \n",
       "3   47   blue-collar   married    unknown      no     1506     yes   no   \n",
       "4   33       unknown    single    unknown      no        1      no   no   \n",
       "5   35    management   married   tertiary      no      231     yes   no   \n",
       "6   28    management    single   tertiary      no      447     yes  yes   \n",
       "7   42  entrepreneur  divorced   tertiary     yes        2     yes   no   \n",
       "8   58       retired   married    primary      no      121     yes   no   \n",
       "9   43    technician    single  secondary      no      593     yes   no   \n",
       "\n",
       "   contact  day month  duration  campaign  pdays  previous poutcome   y  \n",
       "0  unknown    5   may       261         1     -1         0  unknown  no  \n",
       "1  unknown    5   may       151         1     -1         0  unknown  no  \n",
       "2  unknown    5   may        76         1     -1         0  unknown  no  \n",
       "3  unknown    5   may        92         1     -1         0  unknown  no  \n",
       "4  unknown    5   may       198         1     -1         0  unknown  no  \n",
       "5  unknown    5   may       139         1     -1         0  unknown  no  \n",
       "6  unknown    5   may       217         1     -1         0  unknown  no  \n",
       "7  unknown    5   may       380         1     -1         0  unknown  no  \n",
       "8  unknown    5   may        50         1     -1         0  unknown  no  \n",
       "9  unknown    5   may        55         1     -1         0  unknown  no  "
      ]
     },
     "execution_count": 9,
     "metadata": {},
     "output_type": "execute_result"
    },
    {
     "name": "stdout",
     "output_type": "stream",
     "text": [
      "time: 102 ms\n"
     ]
    }
   ],
   "source": [
    "import numpy as np\n",
    "import matplotlib.pyplot as plt\n",
    "import pandas as pd\n",
    "\n",
    "df = pd.read_csv('bank-full.csv',sep=';')\n",
    "df.head(10)"
   ]
  },
  {
   "cell_type": "code",
   "execution_count": 10,
   "metadata": {
    "colab": {
     "base_uri": "https://localhost:8080/",
     "height": 442
    },
    "colab_type": "code",
    "id": "sS6M1zySfKk2",
    "outputId": "3206a152-f79d-411c-8a2f-3ef8653118b7"
   },
   "outputs": [
    {
     "name": "stdout",
     "output_type": "stream",
     "text": [
      "<class 'pandas.core.frame.DataFrame'>\n",
      "RangeIndex: 45211 entries, 0 to 45210\n",
      "Data columns (total 17 columns):\n",
      " #   Column     Non-Null Count  Dtype \n",
      "---  ------     --------------  ----- \n",
      " 0   age        45211 non-null  int64 \n",
      " 1   job        45211 non-null  object\n",
      " 2   marital    45211 non-null  object\n",
      " 3   education  45211 non-null  object\n",
      " 4   default    45211 non-null  object\n",
      " 5   balance    45211 non-null  int64 \n",
      " 6   housing    45211 non-null  object\n",
      " 7   loan       45211 non-null  object\n",
      " 8   contact    45211 non-null  object\n",
      " 9   day        45211 non-null  int64 \n",
      " 10  month      45211 non-null  object\n",
      " 11  duration   45211 non-null  int64 \n",
      " 12  campaign   45211 non-null  int64 \n",
      " 13  pdays      45211 non-null  int64 \n",
      " 14  previous   45211 non-null  int64 \n",
      " 15  poutcome   45211 non-null  object\n",
      " 16  y          45211 non-null  object\n",
      "dtypes: int64(7), object(10)\n",
      "memory usage: 5.9+ MB\n",
      "time: 33.7 ms\n"
     ]
    }
   ],
   "source": [
    "df.info()"
   ]
  },
  {
   "cell_type": "code",
   "execution_count": 11,
   "metadata": {
    "colab": {
     "base_uri": "https://localhost:8080/",
     "height": 68
    },
    "colab_type": "code",
    "id": "JFAqXMjZfKk8",
    "outputId": "d338c155-8dfc-4796-e089-96a7b7d58354"
   },
   "outputs": [
    {
     "data": {
      "text/plain": [
       "no     39922\n",
       "yes     5289\n",
       "Name: y, dtype: int64"
      ]
     },
     "execution_count": 11,
     "metadata": {},
     "output_type": "execute_result"
    },
    {
     "name": "stdout",
     "output_type": "stream",
     "text": [
      "time: 9.41 ms\n"
     ]
    }
   ],
   "source": [
    "df['y'].value_counts()\n"
   ]
  },
  {
   "cell_type": "markdown",
   "metadata": {
    "colab_type": "text",
    "id": "1TlCduXMfKlC"
   },
   "source": [
    "# Pré-processamento"
   ]
  },
  {
   "cell_type": "code",
   "execution_count": 12,
   "metadata": {
    "colab": {
     "base_uri": "https://localhost:8080/",
     "height": 34
    },
    "colab_type": "code",
    "id": "Sp97Wm51fKlD",
    "outputId": "96d0cb10-38ec-4904-a3d6-787bc35bf6ea"
   },
   "outputs": [
    {
     "name": "stdout",
     "output_type": "stream",
     "text": [
      "time: 948 ms\n"
     ]
    }
   ],
   "source": [
    "from sklearn.impute          import SimpleImputer\n",
    "from sklearn.preprocessing   import StandardScaler\n",
    "from sklearn.preprocessing   import OneHotEncoder\n",
    "from sklearn.model_selection import train_test_split\n",
    "from sklearn.pipeline        import Pipeline\n",
    "from sklearn.compose         import ColumnTransformer\n",
    "\n",
    "# Renomeando coluna alvo \n",
    "df.rename(columns={'y': 'subscribed_term_deposit'}, inplace=True)\n",
    "# Renomeando coluna default  \n",
    "df.rename(columns={'default': 'credit_in_default'}, inplace=True)\n",
    "\n",
    "# Transformando coluna default em uma única coluna binária\n",
    "df['credit_in_default_bin'] = 0\n",
    "df.loc[df['credit_in_default']=='yes','credit_in_default_bin'] = 1\n",
    "\n",
    "# Transformando housing em uma única coluna binária\n",
    "df['housing_bin'] = 0\n",
    "df.loc[df['housing']=='yes','housing_bin'] = 1\n",
    "\n",
    "# Transformando loan em uma única coluna binária\n",
    "df['loan_bin'] = 0\n",
    "df.loc[df['loan']=='yes','loan'] = 1\n",
    "\n",
    "atributos_numericos = ['age','balance','day','duration','campaign','pdays','previous']\n",
    "atributos_binarios  = ['credit_in_default_bin','housing_bin','loan_bin']\n",
    "atributos_categoricos = ['job', 'marital','education', 'contact', 'month', 'poutcome']\n",
    "nome_coluna_alvo = ['subscribed_term_deposit']\n",
    "\n",
    "# separando os conjuntos de dados de treino e teste\n",
    "df_treino, df_teste = train_test_split(df, test_size=0.2, random_state=42)\n",
    "\n",
    "# separando a coluna alvo do conjunto de treino\n",
    "df_treino_labels = df_treino[nome_coluna_alvo].copy()\n",
    "df_treino        = df_treino.drop(columns=nome_coluna_alvo)\n",
    "\n",
    "# separando a coluna alvo do conjunto de teste\n",
    "df_teste_labels = df_teste[nome_coluna_alvo].copy()\n",
    "df_teste        = df_teste.drop(columns=nome_coluna_alvo)\n",
    "\n",
    "\n",
    "# Pipelines de Pré-processamento\n",
    "pipeline_atr_numericos = Pipeline([\n",
    "    ('imputer',SimpleImputer(strategy='mean')),\n",
    "    ('scaler', StandardScaler()),\n",
    "])\n",
    "\n",
    "preproc_completo = ColumnTransformer([\n",
    "    ('numericos',   pipeline_atr_numericos, atributos_numericos   ),\n",
    "    ('binarios',    'passthrough',          atributos_binarios    ),\n",
    "    ('categoricos', OneHotEncoder(),        atributos_categoricos ),\n",
    "    ],\n",
    "    sparse_threshold=0)\n",
    "\n",
    "# pre-processamento do conjunto de treino\n",
    "X_treino = preproc_completo.fit_transform(df_treino)\n",
    "\n",
    "# pre-processamento do conjunto de teste\n",
    "X_teste = preproc_completo.transform(df_teste)\n",
    "    \n",
    "# Coluna alvo para os conjuntos de treino e teste\n",
    "y_treino = df_treino_labels[ nome_coluna_alvo ] == 'yes'\n",
    "y_treino = y_treino.values.ravel()\n",
    "\n",
    "y_teste  = df_teste_labels[  nome_coluna_alvo ] == 'yes'\n",
    "y_teste  = y_teste.values.ravel()\n",
    "\n",
    "nomes_atributos = atributos_numericos\n",
    "nomes_atributos = np.append( nomes_atributos, atributos_binarios )\n",
    "nomes_atributos = np.append( nomes_atributos,\n",
    "                             preproc_completo.named_transformers_['categoricos'].get_feature_names())"
   ]
  },
  {
   "cell_type": "code",
   "execution_count": 13,
   "metadata": {
    "colab": {
     "base_uri": "https://localhost:8080/",
     "height": 34
    },
    "colab_type": "code",
    "id": "-f2WQ7xefKll",
    "outputId": "9fe4818c-0d0d-4fd8-c6cb-9638688e4bcf"
   },
   "outputs": [
    {
     "data": {
      "text/plain": [
       "((36168, 48), (36168,))"
      ]
     },
     "execution_count": 13,
     "metadata": {},
     "output_type": "execute_result"
    },
    {
     "name": "stdout",
     "output_type": "stream",
     "text": [
      "time: 4.49 ms\n"
     ]
    }
   ],
   "source": [
    "X_treino.shape, y_treino.shape"
   ]
  },
  {
   "cell_type": "code",
   "execution_count": 14,
   "metadata": {
    "colab": {
     "base_uri": "https://localhost:8080/",
     "height": 34
    },
    "colab_type": "code",
    "id": "MjoAvHdQfKlq",
    "outputId": "5d8966bd-9e44-411e-a2af-09b467093fe3"
   },
   "outputs": [
    {
     "data": {
      "text/plain": [
       "array([False, False, False, ..., False, False, False])"
      ]
     },
     "execution_count": 14,
     "metadata": {},
     "output_type": "execute_result"
    },
    {
     "name": "stdout",
     "output_type": "stream",
     "text": [
      "time: 4.58 ms\n"
     ]
    }
   ],
   "source": [
    "y_treino"
   ]
  },
  {
   "cell_type": "code",
   "execution_count": 15,
   "metadata": {
    "colab": {
     "base_uri": "https://localhost:8080/",
     "height": 85
    },
    "colab_type": "code",
    "id": "i81DjUkBfKlw",
    "outputId": "d2516e11-6c57-49d2-c642-5cc7eec67556"
   },
   "outputs": [
    {
     "name": "stdout",
     "output_type": "stream",
     "text": [
      "[[    0     1]\n",
      " [31970  4198]]\n",
      "Proporção classe True:  0.11606945366069453\n",
      "time: 2 ms\n"
     ]
    }
   ],
   "source": [
    "valores_y_treino, quantidades_y_treino = np.unique(y_treino, return_counts=True)\n",
    "print(np.asarray((valores_y_treino, quantidades_y_treino)))\n",
    "print(\"Proporção classe True: \",quantidades_y_treino[1]/y_treino.shape[0])"
   ]
  },
  {
   "cell_type": "code",
   "execution_count": 16,
   "metadata": {
    "colab": {
     "base_uri": "https://localhost:8080/",
     "height": 34
    },
    "colab_type": "code",
    "id": "z1Axht437eBe",
    "outputId": "f15ad995-97fd-40e6-8a48-36febf938898"
   },
   "outputs": [
    {
     "data": {
      "text/plain": [
       "((9043, 48), (9043,))"
      ]
     },
     "execution_count": 16,
     "metadata": {},
     "output_type": "execute_result"
    },
    {
     "name": "stdout",
     "output_type": "stream",
     "text": [
      "time: 2.27 ms\n"
     ]
    }
   ],
   "source": [
    "X_teste.shape, y_teste.shape"
   ]
  },
  {
   "cell_type": "code",
   "execution_count": 17,
   "metadata": {
    "colab": {
     "base_uri": "https://localhost:8080/",
     "height": 85
    },
    "colab_type": "code",
    "id": "QMLR9CZT7fnn",
    "outputId": "6b2d7a4f-bd8b-45a6-adfb-8d0bfd675cef"
   },
   "outputs": [
    {
     "name": "stdout",
     "output_type": "stream",
     "text": [
      "[[   0    1]\n",
      " [7952 1091]]\n",
      "Proporção classe True:  0.1206458033838328\n",
      "time: 1.68 ms\n"
     ]
    }
   ],
   "source": [
    "valores_y_teste, quantidades_y_teste = np.unique(y_teste, return_counts=True)\n",
    "print(np.asarray((valores_y_teste, quantidades_y_teste)))\n",
    "print(\"Proporção classe True: \",quantidades_y_teste[1]/y_teste.shape[0])"
   ]
  },
  {
   "cell_type": "code",
   "execution_count": 18,
   "metadata": {
    "colab": {
     "base_uri": "https://localhost:8080/",
     "height": 204
    },
    "colab_type": "code",
    "id": "Y-Iz6jK37iDT",
    "outputId": "d205338d-5b73-4e98-9d65-17e36fd79502"
   },
   "outputs": [
    {
     "data": {
      "text/plain": [
       "array(['age', 'balance', 'day', 'duration', 'campaign', 'pdays',\n",
       "       'previous', 'credit_in_default_bin', 'housing_bin', 'loan_bin',\n",
       "       'x0_admin.', 'x0_blue-collar', 'x0_entrepreneur', 'x0_housemaid',\n",
       "       'x0_management', 'x0_retired', 'x0_self-employed', 'x0_services',\n",
       "       'x0_student', 'x0_technician', 'x0_unemployed', 'x0_unknown',\n",
       "       'x1_divorced', 'x1_married', 'x1_single', 'x2_primary',\n",
       "       'x2_secondary', 'x2_tertiary', 'x2_unknown', 'x3_cellular',\n",
       "       'x3_telephone', 'x3_unknown', 'x4_apr', 'x4_aug', 'x4_dec',\n",
       "       'x4_feb', 'x4_jan', 'x4_jul', 'x4_jun', 'x4_mar', 'x4_may',\n",
       "       'x4_nov', 'x4_oct', 'x4_sep', 'x5_failure', 'x5_other',\n",
       "       'x5_success', 'x5_unknown'], dtype=object)"
      ]
     },
     "execution_count": 18,
     "metadata": {},
     "output_type": "execute_result"
    },
    {
     "name": "stdout",
     "output_type": "stream",
     "text": [
      "time: 4.73 ms\n"
     ]
    }
   ],
   "source": [
    "nomes_atributos"
   ]
  },
  {
   "cell_type": "markdown",
   "metadata": {
    "colab_type": "text",
    "id": "_kMUoDf7fKl1"
   },
   "source": [
    "## Treinamento e avaliação de desempenho"
   ]
  },
  {
   "cell_type": "code",
   "execution_count": 19,
   "metadata": {
    "colab": {
     "base_uri": "https://localhost:8080/",
     "height": 34
    },
    "colab_type": "code",
    "id": "QzWHYfckfKl2",
    "outputId": "0a166419-242b-4887-dee6-e7895f27fe48"
   },
   "outputs": [
    {
     "name": "stdout",
     "output_type": "stream",
     "text": [
      "time: 993 µs\n"
     ]
    }
   ],
   "source": [
    "from sklearn.metrics import accuracy_score, precision_score, recall_score, f1_score"
   ]
  },
  {
   "cell_type": "markdown",
   "metadata": {},
   "source": [
    "### Regressão logística apenas para fins de comparação para os próximos passos"
   ]
  },
  {
   "cell_type": "code",
   "execution_count": 20,
   "metadata": {
    "colab": {
     "base_uri": "https://localhost:8080/",
     "height": 102
    },
    "colab_type": "code",
    "id": "Hw_L2jURfKl6",
    "outputId": "51aecf58-431a-4af1-facc-ff9ca3335410"
   },
   "outputs": [
    {
     "name": "stdout",
     "output_type": "stream",
     "text": [
      "Acurácia:  0.899037929890523\n",
      "Precisão:  0.6539792387543253\n",
      "Recall:    0.3464711274060495\n",
      "F1 Score:  0.45296584781306176\n",
      "time: 564 ms\n"
     ]
    }
   ],
   "source": [
    "from sklearn.linear_model import LogisticRegression\n",
    "\n",
    "log_reg = LogisticRegression()\n",
    "log_reg.fit(X_treino, y_treino)\n",
    "\n",
    "y_previsto = log_reg.predict(X_teste)\n",
    "\n",
    "print(\"Acurácia: \", accuracy_score(y_teste,y_previsto))\n",
    "print(\"Precisão: \", precision_score(y_teste,y_previsto))\n",
    "print(\"Recall:   \", recall_score(y_teste,y_previsto))\n",
    "print(\"F1 Score: \", f1_score(y_teste,y_previsto))"
   ]
  },
  {
   "cell_type": "markdown",
   "metadata": {},
   "source": [
    "## Treinamento de uma RNA tipo Multi-Layer Perceptron"
   ]
  },
  {
   "cell_type": "code",
   "execution_count": 21,
   "metadata": {
    "colab": {
     "base_uri": "https://localhost:8080/",
     "height": 119
    },
    "colab_type": "code",
    "id": "_iskqeK9fKl9",
    "outputId": "ac1c0641-60e7-4ca5-f372-2fd5a4731265"
   },
   "outputs": [
    {
     "name": "stdout",
     "output_type": "stream",
     "text": [
      "MLP:\n",
      "Acurácia:  0.906668141103616\n",
      "Precisão:  0.6376811594202898\n",
      "Recall:    0.5242896425297892\n",
      "F1 Score:  0.5754527162977867\n",
      "time: 27.9 s\n"
     ]
    }
   ],
   "source": [
    "from sklearn.neural_network import MLPClassifier\n",
    "\n",
    "mlp_clf = MLPClassifier(hidden_layer_sizes=(20))\n",
    "mlp_clf.fit(X_treino, y_treino)\n",
    "\n",
    "y_previsto = mlp_clf.predict(X_teste)\n",
    "print(\"MLP:\")\n",
    "print(\"Acurácia: \", accuracy_score(y_teste,y_previsto))\n",
    "print(\"Precisão: \", precision_score(y_teste,y_previsto))\n",
    "print(\"Recall:   \", recall_score(y_teste,y_previsto))\n",
    "print(\"F1 Score: \", f1_score(y_teste,y_previsto))"
   ]
  },
  {
   "cell_type": "markdown",
   "metadata": {},
   "source": [
    "## Testando diferentes RNA's usando MLP \n",
    "\n",
    "Utilizamos a tecnica de GridSearchCV que foi ensinada em aula para fazer a descoberta da melhor arquitetura das redes escolhidas. Como nosso dataset possui poucas colunas e como pode ser visto um pouco mais acima, foi gerado um modelo com apenas 48 colunas possíveis optamos por não colocar números muito distante desse valor. Apenas 1 teste foi feito com 100 neuronios para fim de comparação/curiosidade"
   ]
  },
  {
   "cell_type": "code",
   "execution_count": null,
   "metadata": {
    "colab": {
     "base_uri": "https://localhost:8080/",
     "height": 1000
    },
    "colab_type": "code",
    "id": "X6v_S8pQfKmD",
    "outputId": "b0b338c7-8ea5-4cd9-84a3-a18a7ae5f68d"
   },
   "outputs": [
    {
     "name": "stderr",
     "output_type": "stream",
     "text": [
      "/usr/local/lib/python3.6/dist-packages/sklearn/neural_network/_multilayer_perceptron.py:571: ConvergenceWarning: Stochastic Optimizer: Maximum iterations (200) reached and the optimization hasn't converged yet.\n",
      "  % self.max_iter, ConvergenceWarning)\n",
      "/usr/local/lib/python3.6/dist-packages/sklearn/neural_network/_multilayer_perceptron.py:571: ConvergenceWarning: Stochastic Optimizer: Maximum iterations (200) reached and the optimization hasn't converged yet.\n",
      "  % self.max_iter, ConvergenceWarning)\n",
      "/usr/local/lib/python3.6/dist-packages/sklearn/neural_network/_multilayer_perceptron.py:571: ConvergenceWarning: Stochastic Optimizer: Maximum iterations (200) reached and the optimization hasn't converged yet.\n",
      "  % self.max_iter, ConvergenceWarning)\n",
      "/usr/local/lib/python3.6/dist-packages/sklearn/neural_network/_multilayer_perceptron.py:571: ConvergenceWarning: Stochastic Optimizer: Maximum iterations (200) reached and the optimization hasn't converged yet.\n",
      "  % self.max_iter, ConvergenceWarning)\n",
      "/usr/local/lib/python3.6/dist-packages/sklearn/neural_network/_multilayer_perceptron.py:571: ConvergenceWarning: Stochastic Optimizer: Maximum iterations (200) reached and the optimization hasn't converged yet.\n",
      "  % self.max_iter, ConvergenceWarning)\n",
      "/usr/local/lib/python3.6/dist-packages/sklearn/neural_network/_multilayer_perceptron.py:571: ConvergenceWarning: Stochastic Optimizer: Maximum iterations (200) reached and the optimization hasn't converged yet.\n",
      "  % self.max_iter, ConvergenceWarning)\n",
      "/usr/local/lib/python3.6/dist-packages/sklearn/neural_network/_multilayer_perceptron.py:571: ConvergenceWarning: Stochastic Optimizer: Maximum iterations (200) reached and the optimization hasn't converged yet.\n",
      "  % self.max_iter, ConvergenceWarning)\n",
      "/usr/local/lib/python3.6/dist-packages/sklearn/neural_network/_multilayer_perceptron.py:571: ConvergenceWarning: Stochastic Optimizer: Maximum iterations (200) reached and the optimization hasn't converged yet.\n",
      "  % self.max_iter, ConvergenceWarning)\n",
      "/usr/local/lib/python3.6/dist-packages/sklearn/neural_network/_multilayer_perceptron.py:571: ConvergenceWarning: Stochastic Optimizer: Maximum iterations (200) reached and the optimization hasn't converged yet.\n",
      "  % self.max_iter, ConvergenceWarning)\n",
      "/usr/local/lib/python3.6/dist-packages/sklearn/neural_network/_multilayer_perceptron.py:571: ConvergenceWarning: Stochastic Optimizer: Maximum iterations (200) reached and the optimization hasn't converged yet.\n",
      "  % self.max_iter, ConvergenceWarning)\n",
      "/usr/local/lib/python3.6/dist-packages/sklearn/neural_network/_multilayer_perceptron.py:571: ConvergenceWarning: Stochastic Optimizer: Maximum iterations (200) reached and the optimization hasn't converged yet.\n",
      "  % self.max_iter, ConvergenceWarning)\n",
      "/usr/local/lib/python3.6/dist-packages/sklearn/neural_network/_multilayer_perceptron.py:571: ConvergenceWarning: Stochastic Optimizer: Maximum iterations (200) reached and the optimization hasn't converged yet.\n",
      "  % self.max_iter, ConvergenceWarning)\n",
      "/usr/local/lib/python3.6/dist-packages/sklearn/neural_network/_multilayer_perceptron.py:571: ConvergenceWarning: Stochastic Optimizer: Maximum iterations (200) reached and the optimization hasn't converged yet.\n",
      "  % self.max_iter, ConvergenceWarning)\n",
      "/usr/local/lib/python3.6/dist-packages/sklearn/neural_network/_multilayer_perceptron.py:571: ConvergenceWarning: Stochastic Optimizer: Maximum iterations (200) reached and the optimization hasn't converged yet.\n",
      "  % self.max_iter, ConvergenceWarning)\n",
      "/usr/local/lib/python3.6/dist-packages/sklearn/neural_network/_multilayer_perceptron.py:571: ConvergenceWarning: Stochastic Optimizer: Maximum iterations (200) reached and the optimization hasn't converged yet.\n",
      "  % self.max_iter, ConvergenceWarning)\n",
      "/usr/local/lib/python3.6/dist-packages/sklearn/neural_network/_multilayer_perceptron.py:571: ConvergenceWarning: Stochastic Optimizer: Maximum iterations (200) reached and the optimization hasn't converged yet.\n",
      "  % self.max_iter, ConvergenceWarning)\n",
      "/usr/local/lib/python3.6/dist-packages/sklearn/neural_network/_multilayer_perceptron.py:571: ConvergenceWarning: Stochastic Optimizer: Maximum iterations (200) reached and the optimization hasn't converged yet.\n",
      "  % self.max_iter, ConvergenceWarning)\n",
      "/usr/local/lib/python3.6/dist-packages/sklearn/neural_network/_multilayer_perceptron.py:571: ConvergenceWarning: Stochastic Optimizer: Maximum iterations (200) reached and the optimization hasn't converged yet.\n",
      "  % self.max_iter, ConvergenceWarning)\n",
      "/usr/local/lib/python3.6/dist-packages/sklearn/neural_network/_multilayer_perceptron.py:571: ConvergenceWarning: Stochastic Optimizer: Maximum iterations (200) reached and the optimization hasn't converged yet.\n",
      "  % self.max_iter, ConvergenceWarning)\n",
      "/usr/local/lib/python3.6/dist-packages/sklearn/neural_network/_multilayer_perceptron.py:571: ConvergenceWarning: Stochastic Optimizer: Maximum iterations (200) reached and the optimization hasn't converged yet.\n",
      "  % self.max_iter, ConvergenceWarning)\n",
      "/usr/local/lib/python3.6/dist-packages/sklearn/neural_network/_multilayer_perceptron.py:571: ConvergenceWarning: Stochastic Optimizer: Maximum iterations (200) reached and the optimization hasn't converged yet.\n",
      "  % self.max_iter, ConvergenceWarning)\n",
      "/usr/local/lib/python3.6/dist-packages/sklearn/neural_network/_multilayer_perceptron.py:571: ConvergenceWarning: Stochastic Optimizer: Maximum iterations (200) reached and the optimization hasn't converged yet.\n",
      "  % self.max_iter, ConvergenceWarning)\n",
      "/usr/local/lib/python3.6/dist-packages/sklearn/neural_network/_multilayer_perceptron.py:571: ConvergenceWarning: Stochastic Optimizer: Maximum iterations (200) reached and the optimization hasn't converged yet.\n",
      "  % self.max_iter, ConvergenceWarning)\n",
      "/usr/local/lib/python3.6/dist-packages/sklearn/neural_network/_multilayer_perceptron.py:571: ConvergenceWarning: Stochastic Optimizer: Maximum iterations (200) reached and the optimization hasn't converged yet.\n",
      "  % self.max_iter, ConvergenceWarning)\n",
      "/usr/local/lib/python3.6/dist-packages/sklearn/neural_network/_multilayer_perceptron.py:571: ConvergenceWarning: Stochastic Optimizer: Maximum iterations (200) reached and the optimization hasn't converged yet.\n",
      "  % self.max_iter, ConvergenceWarning)\n",
      "/usr/local/lib/python3.6/dist-packages/sklearn/neural_network/_multilayer_perceptron.py:571: ConvergenceWarning: Stochastic Optimizer: Maximum iterations (200) reached and the optimization hasn't converged yet.\n",
      "  % self.max_iter, ConvergenceWarning)\n",
      "/usr/local/lib/python3.6/dist-packages/sklearn/neural_network/_multilayer_perceptron.py:571: ConvergenceWarning: Stochastic Optimizer: Maximum iterations (200) reached and the optimization hasn't converged yet.\n",
      "  % self.max_iter, ConvergenceWarning)\n",
      "/usr/local/lib/python3.6/dist-packages/sklearn/neural_network/_multilayer_perceptron.py:571: ConvergenceWarning: Stochastic Optimizer: Maximum iterations (200) reached and the optimization hasn't converged yet.\n",
      "  % self.max_iter, ConvergenceWarning)\n",
      "/usr/local/lib/python3.6/dist-packages/sklearn/neural_network/_multilayer_perceptron.py:571: ConvergenceWarning: Stochastic Optimizer: Maximum iterations (200) reached and the optimization hasn't converged yet.\n",
      "  % self.max_iter, ConvergenceWarning)\n",
      "/usr/local/lib/python3.6/dist-packages/sklearn/neural_network/_multilayer_perceptron.py:571: ConvergenceWarning: Stochastic Optimizer: Maximum iterations (200) reached and the optimization hasn't converged yet.\n",
      "  % self.max_iter, ConvergenceWarning)\n",
      "/usr/local/lib/python3.6/dist-packages/sklearn/neural_network/_multilayer_perceptron.py:571: ConvergenceWarning: Stochastic Optimizer: Maximum iterations (200) reached and the optimization hasn't converged yet.\n",
      "  % self.max_iter, ConvergenceWarning)\n",
      "/usr/local/lib/python3.6/dist-packages/sklearn/neural_network/_multilayer_perceptron.py:571: ConvergenceWarning: Stochastic Optimizer: Maximum iterations (200) reached and the optimization hasn't converged yet.\n",
      "  % self.max_iter, ConvergenceWarning)\n",
      "/usr/local/lib/python3.6/dist-packages/sklearn/neural_network/_multilayer_perceptron.py:571: ConvergenceWarning: Stochastic Optimizer: Maximum iterations (200) reached and the optimization hasn't converged yet.\n",
      "  % self.max_iter, ConvergenceWarning)\n",
      "/usr/local/lib/python3.6/dist-packages/sklearn/neural_network/_multilayer_perceptron.py:571: ConvergenceWarning: Stochastic Optimizer: Maximum iterations (200) reached and the optimization hasn't converged yet.\n",
      "  % self.max_iter, ConvergenceWarning)\n",
      "/usr/local/lib/python3.6/dist-packages/sklearn/neural_network/_multilayer_perceptron.py:571: ConvergenceWarning: Stochastic Optimizer: Maximum iterations (200) reached and the optimization hasn't converged yet.\n",
      "  % self.max_iter, ConvergenceWarning)\n",
      "/usr/local/lib/python3.6/dist-packages/sklearn/neural_network/_multilayer_perceptron.py:571: ConvergenceWarning: Stochastic Optimizer: Maximum iterations (200) reached and the optimization hasn't converged yet.\n",
      "  % self.max_iter, ConvergenceWarning)\n",
      "/usr/local/lib/python3.6/dist-packages/sklearn/neural_network/_multilayer_perceptron.py:571: ConvergenceWarning: Stochastic Optimizer: Maximum iterations (200) reached and the optimization hasn't converged yet.\n",
      "  % self.max_iter, ConvergenceWarning)\n",
      "/usr/local/lib/python3.6/dist-packages/sklearn/neural_network/_multilayer_perceptron.py:571: ConvergenceWarning: Stochastic Optimizer: Maximum iterations (200) reached and the optimization hasn't converged yet.\n",
      "  % self.max_iter, ConvergenceWarning)\n",
      "/usr/local/lib/python3.6/dist-packages/sklearn/neural_network/_multilayer_perceptron.py:571: ConvergenceWarning: Stochastic Optimizer: Maximum iterations (200) reached and the optimization hasn't converged yet.\n",
      "  % self.max_iter, ConvergenceWarning)\n",
      "/usr/local/lib/python3.6/dist-packages/sklearn/neural_network/_multilayer_perceptron.py:571: ConvergenceWarning: Stochastic Optimizer: Maximum iterations (200) reached and the optimization hasn't converged yet.\n",
      "  % self.max_iter, ConvergenceWarning)\n",
      "/usr/local/lib/python3.6/dist-packages/sklearn/neural_network/_multilayer_perceptron.py:571: ConvergenceWarning: Stochastic Optimizer: Maximum iterations (200) reached and the optimization hasn't converged yet.\n",
      "  % self.max_iter, ConvergenceWarning)\n",
      "/usr/local/lib/python3.6/dist-packages/sklearn/neural_network/_multilayer_perceptron.py:571: ConvergenceWarning: Stochastic Optimizer: Maximum iterations (200) reached and the optimization hasn't converged yet.\n",
      "  % self.max_iter, ConvergenceWarning)\n",
      "/usr/local/lib/python3.6/dist-packages/sklearn/neural_network/_multilayer_perceptron.py:571: ConvergenceWarning: Stochastic Optimizer: Maximum iterations (200) reached and the optimization hasn't converged yet.\n",
      "  % self.max_iter, ConvergenceWarning)\n",
      "/usr/local/lib/python3.6/dist-packages/sklearn/neural_network/_multilayer_perceptron.py:571: ConvergenceWarning: Stochastic Optimizer: Maximum iterations (200) reached and the optimization hasn't converged yet.\n",
      "  % self.max_iter, ConvergenceWarning)\n",
      "/usr/local/lib/python3.6/dist-packages/sklearn/neural_network/_multilayer_perceptron.py:571: ConvergenceWarning: Stochastic Optimizer: Maximum iterations (200) reached and the optimization hasn't converged yet.\n",
      "  % self.max_iter, ConvergenceWarning)\n",
      "/usr/local/lib/python3.6/dist-packages/sklearn/neural_network/_multilayer_perceptron.py:571: ConvergenceWarning: Stochastic Optimizer: Maximum iterations (200) reached and the optimization hasn't converged yet.\n",
      "  % self.max_iter, ConvergenceWarning)\n",
      "/usr/local/lib/python3.6/dist-packages/sklearn/neural_network/_multilayer_perceptron.py:571: ConvergenceWarning: Stochastic Optimizer: Maximum iterations (200) reached and the optimization hasn't converged yet.\n",
      "  % self.max_iter, ConvergenceWarning)\n",
      "/usr/local/lib/python3.6/dist-packages/sklearn/neural_network/_multilayer_perceptron.py:571: ConvergenceWarning: Stochastic Optimizer: Maximum iterations (200) reached and the optimization hasn't converged yet.\n",
      "  % self.max_iter, ConvergenceWarning)\n",
      "/usr/local/lib/python3.6/dist-packages/sklearn/neural_network/_multilayer_perceptron.py:571: ConvergenceWarning: Stochastic Optimizer: Maximum iterations (200) reached and the optimization hasn't converged yet.\n",
      "  % self.max_iter, ConvergenceWarning)\n"
     ]
    },
    {
     "data": {
      "text/plain": [
       "GridSearchCV(cv=None, error_score=nan,\n",
       "             estimator=MLPClassifier(activation='relu', alpha=0.0001,\n",
       "                                     batch_size='auto', beta_1=0.9,\n",
       "                                     beta_2=0.999, early_stopping=False,\n",
       "                                     epsilon=1e-08, hidden_layer_sizes=(100,),\n",
       "                                     learning_rate='constant',\n",
       "                                     learning_rate_init=0.001, max_fun=15000,\n",
       "                                     max_iter=200, momentum=0.9,\n",
       "                                     n_iter_no_change=10,\n",
       "                                     nesterovs_momentum=True, power_t=0.5,\n",
       "                                     random_state=None, shuffle=True,\n",
       "                                     solver='adam', tol=0.0001,\n",
       "                                     validation_fraction=0.1, verbose=False,\n",
       "                                     warm_start=False),\n",
       "             iid='deprecated', n_jobs=None,\n",
       "             param_grid=[{'activation': ['logistic', 'tanh', 'relu'],\n",
       "                          'hidden_layer_sizes': [(10,), (20,), (20, 20),\n",
       "                                                 (50, 50), (50, 20), (100, 100),\n",
       "                                                 (30, 30, 30)]}],\n",
       "             pre_dispatch='2*n_jobs', refit=True, return_train_score=False,\n",
       "             scoring=None, verbose=0)"
      ]
     },
     "execution_count": 69,
     "metadata": {
      "tags": []
     },
     "output_type": "execute_result"
    },
    {
     "name": "stdout",
     "output_type": "stream",
     "text": [
      "time: 1h 12min 38s\n"
     ]
    }
   ],
   "source": [
    "from sklearn.model_selection import GridSearchCV\n",
    "\n",
    "param_grid = [\n",
    " {'hidden_layer_sizes': [(10,), (20,), (20,20), (50,50), (50,20), (100,100), (30,30,30) ], \n",
    "  'activation': ['logistic', 'tanh', 'relu']},\n",
    " ]\n",
    "\n",
    "mlp_clf = MLPClassifier()\n",
    "\n",
    "grid_search = GridSearchCV(mlp_clf, param_grid)\n",
    "grid_search.fit(X_treino, y_treino)"
   ]
  },
  {
   "cell_type": "code",
   "execution_count": null,
   "metadata": {
    "colab": {
     "base_uri": "https://localhost:8080/",
     "height": 34
    },
    "colab_type": "code",
    "id": "fce30xnJfKmH",
    "outputId": "35002444-0844-49d1-f9f5-846aa5aaa623"
   },
   "outputs": [
    {
     "data": {
      "text/plain": [
       "{'activation': 'logistic', 'hidden_layer_sizes': (20,)}"
      ]
     },
     "execution_count": 70,
     "metadata": {
      "tags": []
     },
     "output_type": "execute_result"
    },
    {
     "name": "stdout",
     "output_type": "stream",
     "text": [
      "time: 2.64 ms\n"
     ]
    }
   ],
   "source": [
    "grid_search.best_params_"
   ]
  },
  {
   "cell_type": "code",
   "execution_count": null,
   "metadata": {
    "colab": {
     "base_uri": "https://localhost:8080/",
     "height": 119
    },
    "colab_type": "code",
    "id": "f6jFF1vwtjUq",
    "outputId": "8f32f683-0971-4f89-b093-e84b10c600cb"
   },
   "outputs": [
    {
     "name": "stdout",
     "output_type": "stream",
     "text": [
      "Best MLP:\n",
      "Acurácia:  0.9091009620701095\n",
      "Precisão:  0.6530147895335608\n",
      "Recall:    0.5261228230980751\n",
      "F1 Score:  0.582741116751269\n",
      "time: 36.7 ms\n"
     ]
    }
   ],
   "source": [
    "y_previsto = grid_search.best_estimator_.predict(X_teste)\n",
    "print(\"Best MLP:\")\n",
    "print(\"Acurácia: \", accuracy_score(y_teste,y_previsto))\n",
    "print(\"Precisão: \", precision_score(y_teste,y_previsto))\n",
    "print(\"Recall:   \", recall_score(y_teste,y_previsto))\n",
    "print(\"F1 Score: \", f1_score(y_teste,y_previsto))"
   ]
  },
  {
   "cell_type": "markdown",
   "metadata": {},
   "source": [
    "## Treinamento usando Keras + TensorFlow"
   ]
  },
  {
   "cell_type": "code",
   "execution_count": 23,
   "metadata": {
    "colab": {
     "base_uri": "https://localhost:8080/",
     "height": 34
    },
    "colab_type": "code",
    "id": "-crJ6WBRxL7m",
    "outputId": "9b0fe944-3a00-4d59-e370-4bfebb73f2c6"
   },
   "outputs": [
    {
     "data": {
      "text/plain": [
       "('2.2.0', '2.3.0-tf')"
      ]
     },
     "execution_count": 23,
     "metadata": {},
     "output_type": "execute_result"
    },
    {
     "name": "stdout",
     "output_type": "stream",
     "text": [
      "time: 1.36 s\n"
     ]
    }
   ],
   "source": [
    "import tensorflow as tf\n",
    "from tensorflow import keras\n",
    "tf.__version__, keras.__version__"
   ]
  },
  {
   "cell_type": "code",
   "execution_count": 24,
   "metadata": {
    "colab": {
     "base_uri": "https://localhost:8080/",
     "height": 34
    },
    "colab_type": "code",
    "id": "jimyaPZtxRRO",
    "outputId": "e755af63-c380-4067-bc49-5c9fce52ad26"
   },
   "outputs": [
    {
     "data": {
      "text/plain": [
       "(48,)"
      ]
     },
     "execution_count": 24,
     "metadata": {},
     "output_type": "execute_result"
    },
    {
     "name": "stdout",
     "output_type": "stream",
     "text": [
      "time: 2.07 ms\n"
     ]
    }
   ],
   "source": [
    "X_treino.shape[1:]"
   ]
  },
  {
   "cell_type": "markdown",
   "metadata": {},
   "source": [
    "### Construindo o modelo a ser treinado"
   ]
  },
  {
   "cell_type": "code",
   "execution_count": 142,
   "metadata": {
    "colab": {
     "base_uri": "https://localhost:8080/",
     "height": 34
    },
    "colab_type": "code",
    "id": "DGC9OBcU0YFk",
    "outputId": "0910b4ee-90e7-484c-bb18-09c61764626a"
   },
   "outputs": [
    {
     "name": "stdout",
     "output_type": "stream",
     "text": [
      "time: 38.8 ms\n"
     ]
    }
   ],
   "source": [
    "model = keras.models.Sequential()\n",
    "model.add(keras.layers.Dense(20, activation=\"relu\",input_shape=X_treino.shape[1:]))\n",
    "model.add(keras.layers.Dense(20, activation=\"relu\"))\n",
    "model.add(keras.layers.Dense(2, activation=\"softmax\"))"
   ]
  },
  {
   "cell_type": "code",
   "execution_count": 143,
   "metadata": {
    "colab": {
     "base_uri": "https://localhost:8080/",
     "height": 272
    },
    "colab_type": "code",
    "id": "5Cmsqjam0a4P",
    "outputId": "d9be22e9-947e-493e-c6d1-3eb41fd5582f"
   },
   "outputs": [
    {
     "name": "stdout",
     "output_type": "stream",
     "text": [
      "Model: \"sequential_13\"\n",
      "_________________________________________________________________\n",
      "Layer (type)                 Output Shape              Param #   \n",
      "=================================================================\n",
      "dense_43 (Dense)             (None, 20)                980       \n",
      "_________________________________________________________________\n",
      "dense_44 (Dense)             (None, 20)                420       \n",
      "_________________________________________________________________\n",
      "dense_45 (Dense)             (None, 2)                 42        \n",
      "=================================================================\n",
      "Total params: 1,442\n",
      "Trainable params: 1,442\n",
      "Non-trainable params: 0\n",
      "_________________________________________________________________\n",
      "time: 2.89 ms\n"
     ]
    }
   ],
   "source": [
    "model.summary()"
   ]
  },
  {
   "cell_type": "code",
   "execution_count": 144,
   "metadata": {
    "colab": {
     "base_uri": "https://localhost:8080/",
     "height": 34
    },
    "colab_type": "code",
    "id": "Nb41FzcE0m4o",
    "outputId": "6a197609-9d3c-474b-d5c9-4178e781b17b"
   },
   "outputs": [
    {
     "name": "stdout",
     "output_type": "stream",
     "text": [
      "time: 7.91 ms\n"
     ]
    }
   ],
   "source": [
    "# Para modelos de classificação com saída esparsa:    # para classificação com saída densa  # para classificação binária:     \n",
    "model.compile(loss=\"sparse_categorical_crossentropy\", # usar categorical_crossentropy       # usar binary_crossentropy e mudar\n",
    "              optimizer=\"sgd\",                        #                                     # a ativação da camada de saída\n",
    "              metrics=[\"accuracy\"])                   #                                     # para sigmoid\n",
    "\n",
    "# Para modelos de regressão deixar a última camada com um\n",
    "# único neurônio sem ativação e usar loss=\"mean_squared_error\"\n",
    "\n"
   ]
  },
  {
   "cell_type": "markdown",
   "metadata": {
    "colab_type": "text",
    "id": "QStgCAoW0qvz"
   },
   "source": [
    "### Treinando o modelo"
   ]
  },
  {
   "cell_type": "code",
   "execution_count": 145,
   "metadata": {
    "colab": {
     "base_uri": "https://localhost:8080/",
     "height": 374
    },
    "colab_type": "code",
    "id": "x--A88mZ0uPy",
    "outputId": "ca3135a2-ce51-4f9b-e986-af91fb420a2a"
   },
   "outputs": [
    {
     "name": "stdout",
     "output_type": "stream",
     "text": [
      "Epoch 1/10\n",
      "905/905 [==============================] - 2s 2ms/step - loss: 0.3020 - accuracy: 0.8825 - val_loss: 0.2582 - val_accuracy: 0.8930\n",
      "Epoch 2/10\n",
      "905/905 [==============================] - 1s 2ms/step - loss: 0.2538 - accuracy: 0.8937 - val_loss: 0.2412 - val_accuracy: 0.8959\n",
      "Epoch 3/10\n",
      "905/905 [==============================] - 1s 2ms/step - loss: 0.2407 - accuracy: 0.8972 - val_loss: 0.2329 - val_accuracy: 0.8976\n",
      "Epoch 4/10\n",
      "905/905 [==============================] - 1s 2ms/step - loss: 0.2335 - accuracy: 0.8983 - val_loss: 0.2285 - val_accuracy: 0.8985\n",
      "Epoch 5/10\n",
      "905/905 [==============================] - 1s 2ms/step - loss: 0.2294 - accuracy: 0.8994 - val_loss: 0.2252 - val_accuracy: 0.8989\n",
      "Epoch 6/10\n",
      "905/905 [==============================] - 1s 2ms/step - loss: 0.2267 - accuracy: 0.9007 - val_loss: 0.2230 - val_accuracy: 0.9002\n",
      "Epoch 7/10\n",
      "905/905 [==============================] - 1s 2ms/step - loss: 0.2245 - accuracy: 0.9013 - val_loss: 0.2214 - val_accuracy: 0.9001\n",
      "Epoch 8/10\n",
      "905/905 [==============================] - 1s 2ms/step - loss: 0.2232 - accuracy: 0.9011 - val_loss: 0.2199 - val_accuracy: 0.9006\n",
      "Epoch 9/10\n",
      "905/905 [==============================] - 1s 2ms/step - loss: 0.2220 - accuracy: 0.9022 - val_loss: 0.2193 - val_accuracy: 0.9013\n",
      "Epoch 10/10\n",
      "905/905 [==============================] - 1s 2ms/step - loss: 0.2211 - accuracy: 0.9029 - val_loss: 0.2184 - val_accuracy: 0.9023\n",
      "time: 14.6 s\n"
     ]
    }
   ],
   "source": [
    "history = model.fit(X_treino, y_treino, epochs=10, validation_split=0.2)"
   ]
  },
  {
   "cell_type": "code",
   "execution_count": 146,
   "metadata": {
    "colab": {
     "base_uri": "https://localhost:8080/",
     "height": 395
    },
    "colab_type": "code",
    "id": "qM_xd2o0052o",
    "outputId": "92a84aca-b742-4c73-f5db-fc11fa5f726b"
   },
   "outputs": [
    {
     "data": {
      "image/png": "[encoded data removed]",
      "text/plain": [
       "<Figure size 720x432 with 1 Axes>"
      ]
     },
     "metadata": {
      "needs_background": "light"
     },
     "output_type": "display_data"
    },
    {
     "name": "stdout",
     "output_type": "stream",
     "text": [
      "time: 192 ms\n"
     ]
    }
   ],
   "source": [
    "pd.DataFrame(history.history).plot(figsize=(10,6))\n",
    "plt.grid(True)\n",
    "plt.gca().set_ylim(0,1)\n",
    "plt.show()"
   ]
  },
  {
   "cell_type": "markdown",
   "metadata": {
    "colab_type": "text",
    "id": "LXXXHGtE2XXV"
   },
   "source": [
    "### Avaliando o desempenho do modelo treinado"
   ]
  },
  {
   "cell_type": "code",
   "execution_count": 147,
   "metadata": {
    "colab": {
     "base_uri": "https://localhost:8080/",
     "height": 34
    },
    "colab_type": "code",
    "id": "TtEol_5_2YKP",
    "outputId": "224e1195-848b-4438-a414-01a6b271ee61"
   },
   "outputs": [
    {
     "name": "stdout",
     "output_type": "stream",
     "text": [
      "time: 193 ms\n"
     ]
    }
   ],
   "source": [
    "y_previsto_rna_proba = model.predict(X_teste)"
   ]
  },
  {
   "cell_type": "code",
   "execution_count": 148,
   "metadata": {
    "colab": {
     "base_uri": "https://localhost:8080/",
     "height": 136
    },
    "colab_type": "code",
    "id": "kVTcnjaw2bxm",
    "outputId": "9d0acfb7-54de-4f86-b993-5f9e9e58f00c"
   },
   "outputs": [
    {
     "data": {
      "text/plain": [
       "array([[1.  , 0.  ],\n",
       "       [0.99, 0.01],\n",
       "       [0.72, 0.28],\n",
       "       ...,\n",
       "       [0.99, 0.01],\n",
       "       [1.  , 0.  ],\n",
       "       [0.98, 0.02]], dtype=float32)"
      ]
     },
     "execution_count": 148,
     "metadata": {},
     "output_type": "execute_result"
    },
    {
     "name": "stdout",
     "output_type": "stream",
     "text": [
      "time: 4.08 ms\n"
     ]
    }
   ],
   "source": [
    "np.round(y_previsto_rna_proba,decimals=2)"
   ]
  },
  {
   "cell_type": "code",
   "execution_count": 149,
   "metadata": {
    "colab": {
     "base_uri": "https://localhost:8080/",
     "height": 105
    },
    "colab_type": "code",
    "id": "MLNQtJz-2eSO",
    "outputId": "a8d7ed74-59d9-49b1-a3e2-178fa4244ff1"
   },
   "outputs": [
    {
     "data": {
      "text/plain": [
       "array([0, 0, 0, ..., 0, 0, 0])"
      ]
     },
     "execution_count": 149,
     "metadata": {},
     "output_type": "execute_result"
    },
    {
     "name": "stdout",
     "output_type": "stream",
     "text": [
      "time: 155 ms\n"
     ]
    }
   ],
   "source": [
    "y_previsto_rna = model.predict_classes(X_teste)\n",
    "y_previsto_rna"
   ]
  },
  {
   "cell_type": "code",
   "execution_count": 150,
   "metadata": {
    "colab": {
     "base_uri": "https://localhost:8080/",
     "height": 119
    },
    "colab_type": "code",
    "id": "M6FKcIiO2_qd",
    "outputId": "00239701-5301-4eaf-a895-27363d295a60"
   },
   "outputs": [
    {
     "name": "stdout",
     "output_type": "stream",
     "text": [
      "RNA:\n",
      "Acurácia:  0.8991485126617274\n",
      "Precisão:  0.618229854689564\n",
      "Recall:    0.42896425297891844\n",
      "F1 Score:  0.5064935064935066\n",
      "time: 22.6 ms\n"
     ]
    }
   ],
   "source": [
    "print(\"RNA:\")\n",
    "print(\"Acurácia: \", accuracy_score(y_teste,y_previsto_rna))\n",
    "print(\"Precisão: \", precision_score(y_teste,y_previsto_rna))\n",
    "print(\"Recall:   \", recall_score(y_teste,y_previsto_rna))\n",
    "print(\"F1 Score: \", f1_score(y_teste,y_previsto_rna))"
   ]
  },
  {
   "cell_type": "markdown",
   "metadata": {},
   "source": [
    "### Early Stopping\n",
    "\n",
    "Aplicamos a técinca ensinada em aula para procurar o melhor modelo e faer que o algoritmo pare de executar assim que não detectar nenhuma melhora significativa. "
   ]
  },
  {
   "cell_type": "code",
   "execution_count": 153,
   "metadata": {
    "colab": {
     "base_uri": "https://localhost:8080/",
     "height": 1000
    },
    "colab_type": "code",
    "id": "v6Bten383X5S",
    "outputId": "1839360a-febc-4699-bae5-8a0d91d8f4bf"
   },
   "outputs": [
    {
     "name": "stdout",
     "output_type": "stream",
     "text": [
      "Epoch 1/100\n",
      "905/905 [==============================] - 2s 2ms/step - loss: 0.3011 - accuracy: 0.8843 - val_loss: 0.2530 - val_accuracy: 0.8821\n",
      "Epoch 2/100\n",
      "905/905 [==============================] - 2s 2ms/step - loss: 0.2464 - accuracy: 0.8901 - val_loss: 0.2345 - val_accuracy: 0.8978\n",
      "Epoch 3/100\n",
      "905/905 [==============================] - 2s 2ms/step - loss: 0.2330 - accuracy: 0.8960 - val_loss: 0.2287 - val_accuracy: 0.9023\n",
      "Epoch 4/100\n",
      "905/905 [==============================] - 2s 2ms/step - loss: 0.2257 - accuracy: 0.9002 - val_loss: 0.2226 - val_accuracy: 0.9030\n",
      "Epoch 5/100\n",
      "905/905 [==============================] - 2s 2ms/step - loss: 0.2207 - accuracy: 0.9008 - val_loss: 0.2169 - val_accuracy: 0.9035\n",
      "Epoch 6/100\n",
      "905/905 [==============================] - 2s 2ms/step - loss: 0.2170 - accuracy: 0.9017 - val_loss: 0.2146 - val_accuracy: 0.9061\n",
      "Epoch 7/100\n",
      "905/905 [==============================] - 2s 2ms/step - loss: 0.2137 - accuracy: 0.9033 - val_loss: 0.2151 - val_accuracy: 0.9027\n",
      "Epoch 8/100\n",
      "905/905 [==============================] - 2s 2ms/step - loss: 0.2114 - accuracy: 0.9057 - val_loss: 0.2111 - val_accuracy: 0.9052\n",
      "Epoch 9/100\n",
      "905/905 [==============================] - 1s 2ms/step - loss: 0.2090 - accuracy: 0.9054 - val_loss: 0.2114 - val_accuracy: 0.9041\n",
      "Epoch 10/100\n",
      "905/905 [==============================] - 2s 2ms/step - loss: 0.2074 - accuracy: 0.9058 - val_loss: 0.2111 - val_accuracy: 0.9039\n",
      "Epoch 11/100\n",
      "905/905 [==============================] - 2s 2ms/step - loss: 0.2055 - accuracy: 0.9066 - val_loss: 0.2094 - val_accuracy: 0.9042\n",
      "Epoch 12/100\n",
      "905/905 [==============================] - 1s 2ms/step - loss: 0.2039 - accuracy: 0.9077 - val_loss: 0.2081 - val_accuracy: 0.9070\n",
      "Epoch 13/100\n",
      "905/905 [==============================] - 2s 2ms/step - loss: 0.2024 - accuracy: 0.9083 - val_loss: 0.2075 - val_accuracy: 0.9046\n",
      "Epoch 14/100\n",
      "905/905 [==============================] - 2s 3ms/step - loss: 0.2011 - accuracy: 0.9093 - val_loss: 0.2090 - val_accuracy: 0.9061\n",
      "Epoch 15/100\n",
      "905/905 [==============================] - 2s 3ms/step - loss: 0.1998 - accuracy: 0.9096 - val_loss: 0.2055 - val_accuracy: 0.9053\n",
      "Epoch 16/100\n",
      "905/905 [==============================] - 2s 2ms/step - loss: 0.1984 - accuracy: 0.9100 - val_loss: 0.2071 - val_accuracy: 0.9039\n",
      "Epoch 17/100\n",
      "905/905 [==============================] - 1s 2ms/step - loss: 0.1972 - accuracy: 0.9104 - val_loss: 0.2045 - val_accuracy: 0.9064\n",
      "Epoch 18/100\n",
      "905/905 [==============================] - 1s 2ms/step - loss: 0.1960 - accuracy: 0.9114 - val_loss: 0.2047 - val_accuracy: 0.9067\n",
      "Epoch 19/100\n",
      "905/905 [==============================] - 2s 2ms/step - loss: 0.1950 - accuracy: 0.9120 - val_loss: 0.2087 - val_accuracy: 0.9046\n",
      "Epoch 20/100\n",
      "905/905 [==============================] - 3s 3ms/step - loss: 0.1940 - accuracy: 0.9111 - val_loss: 0.2042 - val_accuracy: 0.9072\n",
      "Epoch 21/100\n",
      "905/905 [==============================] - 2s 2ms/step - loss: 0.1926 - accuracy: 0.9134 - val_loss: 0.2037 - val_accuracy: 0.9083\n",
      "Epoch 22/100\n",
      "905/905 [==============================] - 2s 2ms/step - loss: 0.1918 - accuracy: 0.9130 - val_loss: 0.2071 - val_accuracy: 0.9028\n",
      "Epoch 23/100\n",
      "905/905 [==============================] - 1s 1ms/step - loss: 0.1902 - accuracy: 0.9130 - val_loss: 0.2038 - val_accuracy: 0.9071\n",
      "Epoch 24/100\n",
      "905/905 [==============================] - 1s 1ms/step - loss: 0.1897 - accuracy: 0.9147 - val_loss: 0.2062 - val_accuracy: 0.9081\n",
      "Epoch 25/100\n",
      "905/905 [==============================] - 2s 2ms/step - loss: 0.1889 - accuracy: 0.9140 - val_loss: 0.2044 - val_accuracy: 0.9070\n",
      "RNA:\n",
      "Acurácia:  0.8991485126617274\n",
      "Precisão:  0.618229854689564\n",
      "Recall:    0.42896425297891844\n",
      "F1 Score:  0.5064935064935066\n"
     ]
    },
    {
     "data": {
      "image/png": "[encoded data removed]",
      "text/plain": [
       "<Figure size 720x432 with 1 Axes>"
      ]
     },
     "metadata": {
      "needs_background": "light"
     },
     "output_type": "display_data"
    },
    {
     "name": "stdout",
     "output_type": "stream",
     "text": [
      "time: 47 s\n"
     ]
    }
   ],
   "source": [
    "model = keras.models.Sequential()\n",
    "model.add(keras.layers.Dense(100, activation=\"relu\",input_shape=X_treino.shape[1:]))\n",
    "model.add(keras.layers.Dense(20, activation=\"relu\"))\n",
    "model.add(keras.layers.Dense(20, activation=\"relu\"))\n",
    "model.add(keras.layers.Dense(20, activation=\"relu\"))\n",
    "model.add(keras.layers.Dense(2, activation=\"softmax\"))\n",
    "\n",
    "model.compile(loss=\"sparse_categorical_crossentropy\",\n",
    "              optimizer=\"sgd\",\n",
    "              metrics=[\"accuracy\"])\n",
    "\n",
    "early_stopping_cb = keras.callbacks.EarlyStopping(patience=4,restore_best_weights=True)\n",
    "\n",
    "history = model.fit(X_treino, y_treino, epochs=100, validation_split=0.2,callbacks=[early_stopping_cb])\n",
    "\n",
    "print(\"RNA:\")\n",
    "print(\"Acurácia: \", accuracy_score(y_teste,y_previsto_rna))\n",
    "print(\"Precisão: \", precision_score(y_teste,y_previsto_rna))\n",
    "print(\"Recall:   \", recall_score(y_teste,y_previsto_rna))\n",
    "print(\"F1 Score: \", f1_score(y_teste,y_previsto_rna))\n",
    "\n",
    "pd.DataFrame(history.history).plot(figsize=(10,6))\n",
    "plt.grid(True)\n",
    "plt.gca().set_ylim(0,1)\n",
    "plt.show()"
   ]
  },
  {
   "cell_type": "markdown",
   "metadata": {
    "colab_type": "text",
    "id": "xs-Bv2nA3qHa"
   },
   "source": [
    "### Grid Search\n"
   ]
  },
  {
   "cell_type": "code",
   "execution_count": 154,
   "metadata": {
    "colab": {
     "base_uri": "https://localhost:8080/",
     "height": 34
    },
    "colab_type": "code",
    "id": "tbd78Maa3rTq",
    "outputId": "5d5b2071-b7ec-4032-dc80-1010095020d5"
   },
   "outputs": [
    {
     "name": "stdout",
     "output_type": "stream",
     "text": [
      "time: 3.19 ms\n"
     ]
    }
   ],
   "source": [
    "def MLPKerasTF(hidden_layer_sizes=(20),activation=\"relu\"):\n",
    "    model = keras.models.Sequential()\n",
    "    model.add(keras.layers.InputLayer(input_shape=X_treino.shape[1:]))\n",
    "    for units in hidden_layer_sizes:\n",
    "        model.add(keras.layers.Dense(units,activation=activation))\n",
    "    model.add(keras.layers.Dense(2, activation=\"softmax\"))\n",
    "    model.compile(loss=\"sparse_categorical_crossentropy\", optimizer=\"sgd\", metrics=[\"accuracy\"])\n",
    "    model.summary()\n",
    "    print(\"activation=\",activation)\n",
    "    return model\n",
    "\n",
    "mlpKerasTF_clf = keras.wrappers.scikit_learn.KerasClassifier(MLPKerasTF)"
   ]
  },
  {
   "cell_type": "code",
   "execution_count": null,
   "metadata": {},
   "outputs": [
    {
     "name": "stdout",
     "output_type": "stream",
     "text": [
      "Model: \"sequential_17\"\n",
      "_________________________________________________________________\n",
      "Layer (type)                 Output Shape              Param #   \n",
      "=================================================================\n",
      "dense_60 (Dense)             (None, 10)                490       \n",
      "_________________________________________________________________\n",
      "dense_61 (Dense)             (None, 2)                 22        \n",
      "=================================================================\n",
      "Total params: 512\n",
      "Trainable params: 512\n",
      "Non-trainable params: 0\n",
      "_________________________________________________________________\n",
      "activation= sigmoid\n",
      "Epoch 1/10\n",
      "905/905 [==============================] - 1s 1ms/step - loss: 0.3505 - accuracy: 0.8825\n",
      "Epoch 2/10\n",
      "905/905 [==============================] - 1s 1ms/step - loss: 0.3104 - accuracy: 0.8829\n",
      "Epoch 3/10\n",
      "905/905 [==============================] - 1s 1ms/step - loss: 0.2892 - accuracy: 0.8854\n",
      "Epoch 4/10\n",
      "905/905 [==============================] - 1s 1ms/step - loss: 0.2761 - accuracy: 0.8889\n",
      "Epoch 5/10\n",
      "905/905 [==============================] - 1s 1ms/step - loss: 0.2680 - accuracy: 0.8910\n",
      "Epoch 6/10\n",
      "905/905 [==============================] - 2s 2ms/step - loss: 0.2625 - accuracy: 0.8919\n",
      "Epoch 7/10\n",
      "905/905 [==============================] - 2s 2ms/step - loss: 0.2585 - accuracy: 0.8921\n",
      "Epoch 8/10\n",
      "905/905 [==============================] - 1s 1ms/step - loss: 0.2553 - accuracy: 0.8934\n",
      "Epoch 9/10\n",
      "905/905 [==============================] - 2s 2ms/step - loss: 0.2526 - accuracy: 0.8941\n",
      "Epoch 10/10\n",
      "905/905 [==============================] - 1s 1ms/step - loss: 0.2502 - accuracy: 0.8949\n",
      "227/227 [==============================] - 0s 1ms/step - loss: 0.2393 - accuracy: 0.8954\n",
      "Model: \"sequential_18\"\n",
      "_________________________________________________________________\n",
      "Layer (type)                 Output Shape              Param #   \n",
      "=================================================================\n",
      "dense_62 (Dense)             (None, 10)                490       \n",
      "_________________________________________________________________\n",
      "dense_63 (Dense)             (None, 2)                 22        \n",
      "=================================================================\n",
      "Total params: 512\n",
      "Trainable params: 512\n",
      "Non-trainable params: 0\n",
      "_________________________________________________________________\n",
      "activation= sigmoid\n",
      "Epoch 1/10\n",
      "905/905 [==============================] - 1s 1ms/step - loss: 0.3516 - accuracy: 0.8854\n",
      "Epoch 2/10\n",
      "905/905 [==============================] - 1s 1ms/step - loss: 0.3088 - accuracy: 0.8859\n",
      "Epoch 3/10\n",
      "905/905 [==============================] - 1s 1ms/step - loss: 0.2869 - accuracy: 0.8867\n",
      "Epoch 4/10\n",
      "905/905 [==============================] - 1s 2ms/step - loss: 0.2729 - accuracy: 0.8916\n",
      "Epoch 5/10\n",
      "905/905 [==============================] - 1s 1ms/step - loss: 0.2641 - accuracy: 0.8938\n",
      "Epoch 6/10\n",
      "905/905 [==============================] - 1s 1ms/step - loss: 0.2582 - accuracy: 0.8954\n",
      "Epoch 7/10\n",
      "905/905 [==============================] - 2s 2ms/step - loss: 0.2539 - accuracy: 0.8956\n",
      "Epoch 8/10\n",
      "905/905 [==============================] - 1s 1ms/step - loss: 0.2508 - accuracy: 0.8959\n",
      "Epoch 9/10\n",
      "905/905 [==============================] - 1s 2ms/step - loss: 0.2483 - accuracy: 0.8966\n",
      "Epoch 10/10\n",
      "905/905 [==============================] - 2s 2ms/step - loss: 0.2461 - accuracy: 0.8969\n",
      "227/227 [==============================] - 0s 1ms/step - loss: 0.2660 - accuracy: 0.8833\n",
      "Model: \"sequential_19\"\n",
      "_________________________________________________________________\n",
      "Layer (type)                 Output Shape              Param #   \n",
      "=================================================================\n",
      "dense_64 (Dense)             (None, 10)                490       \n",
      "_________________________________________________________________\n",
      "dense_65 (Dense)             (None, 2)                 22        \n",
      "=================================================================\n",
      "Total params: 512\n",
      "Trainable params: 512\n",
      "Non-trainable params: 0\n",
      "_________________________________________________________________\n",
      "activation= sigmoid\n",
      "Epoch 1/10\n",
      "905/905 [==============================] - 1s 1ms/step - loss: 0.3842 - accuracy: 0.8609\n",
      "Epoch 2/10\n",
      "905/905 [==============================] - 1s 1ms/step - loss: 0.3220 - accuracy: 0.8837\n",
      "Epoch 3/10\n",
      "905/905 [==============================] - 1s 1ms/step - loss: 0.2958 - accuracy: 0.8843\n",
      "Epoch 4/10\n",
      "905/905 [==============================] - 1s 2ms/step - loss: 0.2785 - accuracy: 0.8873\n",
      "Epoch 5/10\n",
      "274/905 [========>.....................] - ETA: 1s - loss: 0.2652 - accuracy: 0.8905"
     ]
    }
   ],
   "source": [
    "from sklearn.model_selection import GridSearchCV\n",
    "\n",
    "param_grid = [\n",
    " {'hidden_layer_sizes': [(10,)],\n",
    "  'activation': ['sigmoid', 'tanh', 'relu']},\n",
    " ]\n",
    "\n",
    "grid_search = GridSearchCV(mlpKerasTF_clf, param_grid)\n",
    "grid_search.fit(X_treino, y_treino, epochs=10)"
   ]
  },
  {
   "cell_type": "code",
   "execution_count": null,
   "metadata": {},
   "outputs": [],
   "source": [
    "grid_search.best_params_"
   ]
  },
  {
   "cell_type": "code",
   "execution_count": null,
   "metadata": {},
   "outputs": [],
   "source": [
    "y_previsto = grid_search.best_estimator_.predict(X_teste)\n",
    "print(\"Best MLPKerasTF:\")\n",
    "print(\"Acurácia: \", accuracy_score(y_teste,y_previsto))\n",
    "print(\"Precisão: \", precision_score(y_teste,y_previsto))\n",
    "print(\"Recall:   \", recall_score(y_teste,y_previsto))\n",
    "print(\"F1 Score: \", f1_score(y_teste,y_previsto))"
   ]
  },
  {
   "cell_type": "code",
   "execution_count": null,
   "metadata": {
    "colab": {
     "base_uri": "https://localhost:8080/",
     "height": 1000
    },
    "colab_type": "code",
    "id": "De-fFpKk3vpM",
    "outputId": "6ebac7b2-ab00-4c48-e4b8-795df46a7f6e"
   },
   "outputs": [
    {
     "name": "stdout",
     "output_type": "stream",
     "text": [
      "905/905 [==============================] - 2s 3ms/step - loss: 0.2446 - accuracy: 0.8927\n",
      "Epoch 4/10\n",
      "905/905 [==============================] - 2s 3ms/step - loss: 0.2377 - accuracy: 0.8945\n",
      "Epoch 5/10\n",
      "905/905 [==============================] - 2s 3ms/step - loss: 0.2331 - accuracy: 0.8972\n",
      "Epoch 6/10\n",
      "905/905 [==============================] - 2s 3ms/step - loss: 0.2296 - accuracy: 0.8987\n",
      "Epoch 7/10\n",
      "905/905 [==============================] - 2s 3ms/step - loss: 0.2272 - accuracy: 0.8995\n",
      "Epoch 8/10\n",
      "905/905 [==============================] - 2s 3ms/step - loss: 0.2250 - accuracy: 0.9006\n",
      "Epoch 9/10\n",
      "905/905 [==============================] - 3s 3ms/step - loss: 0.2235 - accuracy: 0.9015\n",
      "Epoch 10/10\n",
      "905/905 [==============================] - 3s 3ms/step - loss: 0.2221 - accuracy: 0.9023\n",
      "227/227 [==============================] - 1s 2ms/step - loss: 0.2194 - accuracy: 0.9038\n",
      "Model: \"sequential_87\"\n",
      "_________________________________________________________________\n",
      "Layer (type)                 Output Shape              Param #   \n",
      "=================================================================\n",
      "dense_263 (Dense)            (None, 50)                2450      \n",
      "_________________________________________________________________\n",
      "dense_264 (Dense)            (None, 50)                2550      \n",
      "_________________________________________________________________\n",
      "dense_265 (Dense)            (None, 2)                 102       \n",
      "=================================================================\n",
      "Total params: 5,102\n",
      "Trainable params: 5,102\n",
      "Non-trainable params: 0\n",
      "_________________________________________________________________\n",
      "activation= relu\n",
      "Epoch 1/10\n",
      "905/905 [==============================] - 2s 3ms/step - loss: 0.3013 - accuracy: 0.8850\n",
      "Epoch 2/10\n",
      "905/905 [==============================] - 2s 3ms/step - loss: 0.2509 - accuracy: 0.8942\n",
      "Epoch 3/10\n",
      "905/905 [==============================] - 2s 3ms/step - loss: 0.2399 - accuracy: 0.8965\n",
      "Epoch 4/10\n",
      "905/905 [==============================] - 3s 3ms/step - loss: 0.2330 - accuracy: 0.8988\n",
      "Epoch 5/10\n",
      "905/905 [==============================] - 2s 3ms/step - loss: 0.2280 - accuracy: 0.9003\n",
      "Epoch 6/10\n",
      "905/905 [==============================] - 2s 3ms/step - loss: 0.2246 - accuracy: 0.9014\n",
      "Epoch 7/10\n",
      "905/905 [==============================] - 2s 3ms/step - loss: 0.2218 - accuracy: 0.9013\n",
      "Epoch 8/10\n",
      "905/905 [==============================] - 2s 3ms/step - loss: 0.2198 - accuracy: 0.9032\n",
      "Epoch 9/10\n",
      "905/905 [==============================] - 2s 3ms/step - loss: 0.2178 - accuracy: 0.9039\n",
      "Epoch 10/10\n",
      "905/905 [==============================] - 2s 3ms/step - loss: 0.2163 - accuracy: 0.9041\n",
      "227/227 [==============================] - 1s 2ms/step - loss: 0.2121 - accuracy: 0.9070\n",
      "Model: \"sequential_88\"\n",
      "_________________________________________________________________\n",
      "Layer (type)                 Output Shape              Param #   \n",
      "=================================================================\n",
      "dense_266 (Dense)            (None, 50)                2450      \n",
      "_________________________________________________________________\n",
      "dense_267 (Dense)            (None, 50)                2550      \n",
      "_________________________________________________________________\n",
      "dense_268 (Dense)            (None, 2)                 102       \n",
      "=================================================================\n",
      "Total params: 5,102\n",
      "Trainable params: 5,102\n",
      "Non-trainable params: 0\n",
      "_________________________________________________________________\n",
      "activation= relu\n",
      "Epoch 1/10\n",
      "905/905 [==============================] - 2s 3ms/step - loss: 0.3133 - accuracy: 0.8826\n",
      "Epoch 2/10\n",
      "905/905 [==============================] - 2s 3ms/step - loss: 0.2498 - accuracy: 0.8951\n",
      "Epoch 3/10\n",
      "905/905 [==============================] - 2s 3ms/step - loss: 0.2370 - accuracy: 0.8971\n",
      "Epoch 4/10\n",
      "905/905 [==============================] - 2s 3ms/step - loss: 0.2298 - accuracy: 0.9002\n",
      "Epoch 5/10\n",
      "905/905 [==============================] - 2s 3ms/step - loss: 0.2251 - accuracy: 0.9015\n",
      "Epoch 6/10\n",
      "905/905 [==============================] - 3s 3ms/step - loss: 0.2217 - accuracy: 0.9024\n",
      "Epoch 7/10\n",
      "905/905 [==============================] - 2s 3ms/step - loss: 0.2191 - accuracy: 0.9026\n",
      "Epoch 8/10\n",
      "905/905 [==============================] - 2s 3ms/step - loss: 0.2169 - accuracy: 0.9037\n",
      "Epoch 9/10\n",
      "905/905 [==============================] - 3s 3ms/step - loss: 0.2148 - accuracy: 0.9043\n",
      "Epoch 10/10\n",
      "905/905 [==============================] - 2s 3ms/step - loss: 0.2135 - accuracy: 0.9049\n",
      "227/227 [==============================] - 1s 3ms/step - loss: 0.2260 - accuracy: 0.8978\n",
      "Model: \"sequential_89\"\n",
      "_________________________________________________________________\n",
      "Layer (type)                 Output Shape              Param #   \n",
      "=================================================================\n",
      "dense_269 (Dense)            (None, 50)                2450      \n",
      "_________________________________________________________________\n",
      "dense_270 (Dense)            (None, 50)                2550      \n",
      "_________________________________________________________________\n",
      "dense_271 (Dense)            (None, 2)                 102       \n",
      "=================================================================\n",
      "Total params: 5,102\n",
      "Trainable params: 5,102\n",
      "Non-trainable params: 0\n",
      "_________________________________________________________________\n",
      "activation= relu\n",
      "Epoch 1/10\n",
      "905/905 [==============================] - 2s 3ms/step - loss: 0.3197 - accuracy: 0.8847\n",
      "Epoch 2/10\n",
      "905/905 [==============================] - 2s 3ms/step - loss: 0.2472 - accuracy: 0.8938\n",
      "Epoch 3/10\n",
      "905/905 [==============================] - 2s 3ms/step - loss: 0.2332 - accuracy: 0.8970\n",
      "Epoch 4/10\n",
      "905/905 [==============================] - 2s 3ms/step - loss: 0.2268 - accuracy: 0.9006\n",
      "Epoch 5/10\n",
      "905/905 [==============================] - 2s 3ms/step - loss: 0.2227 - accuracy: 0.9016\n",
      "Epoch 6/10\n",
      "905/905 [==============================] - 2s 3ms/step - loss: 0.2200 - accuracy: 0.9017\n",
      "Epoch 7/10\n",
      "905/905 [==============================] - 2s 3ms/step - loss: 0.2178 - accuracy: 0.9033\n",
      "Epoch 8/10\n",
      "905/905 [==============================] - 2s 3ms/step - loss: 0.2159 - accuracy: 0.9034\n",
      "Epoch 9/10\n",
      "905/905 [==============================] - 2s 3ms/step - loss: 0.2144 - accuracy: 0.9042\n",
      "Epoch 10/10\n",
      "905/905 [==============================] - 2s 3ms/step - loss: 0.2130 - accuracy: 0.9048\n",
      "227/227 [==============================] - 1s 2ms/step - loss: 0.2191 - accuracy: 0.9042\n",
      "Model: \"sequential_90\"\n",
      "_________________________________________________________________\n",
      "Layer (type)                 Output Shape              Param #   \n",
      "=================================================================\n",
      "dense_272 (Dense)            (None, 50)                2450      \n",
      "_________________________________________________________________\n",
      "dense_273 (Dense)            (None, 50)                2550      \n",
      "_________________________________________________________________\n",
      "dense_274 (Dense)            (None, 2)                 102       \n",
      "=================================================================\n",
      "Total params: 5,102\n",
      "Trainable params: 5,102\n",
      "Non-trainable params: 0\n",
      "_________________________________________________________________\n",
      "activation= relu\n",
      "Epoch 1/10\n",
      "905/905 [==============================] - 2s 3ms/step - loss: 0.3062 - accuracy: 0.8837\n",
      "Epoch 2/10\n",
      "905/905 [==============================] - 3s 3ms/step - loss: 0.2458 - accuracy: 0.8942\n",
      "Epoch 3/10\n",
      "905/905 [==============================] - 3s 3ms/step - loss: 0.2328 - accuracy: 0.8981\n",
      "Epoch 4/10\n",
      "905/905 [==============================] - 3s 3ms/step - loss: 0.2263 - accuracy: 0.9002\n",
      "Epoch 5/10\n",
      "905/905 [==============================] - 2s 3ms/step - loss: 0.2225 - accuracy: 0.9019\n",
      "Epoch 6/10\n",
      "905/905 [==============================] - 2s 3ms/step - loss: 0.2199 - accuracy: 0.9033\n",
      "Epoch 7/10\n",
      "905/905 [==============================] - 2s 3ms/step - loss: 0.2181 - accuracy: 0.9031\n",
      "Epoch 8/10\n",
      "905/905 [==============================] - 2s 3ms/step - loss: 0.2162 - accuracy: 0.9037\n",
      "Epoch 9/10\n",
      "905/905 [==============================] - 2s 3ms/step - loss: 0.2151 - accuracy: 0.9038\n",
      "Epoch 10/10\n",
      "905/905 [==============================] - 2s 3ms/step - loss: 0.2138 - accuracy: 0.9050\n",
      "227/227 [==============================] - 1s 2ms/step - loss: 0.2182 - accuracy: 0.9036\n",
      "Model: \"sequential_91\"\n",
      "_________________________________________________________________\n",
      "Layer (type)                 Output Shape              Param #   \n",
      "=================================================================\n",
      "dense_275 (Dense)            (None, 50)                2450      \n",
      "_________________________________________________________________\n",
      "dense_276 (Dense)            (None, 50)                2550      \n",
      "_________________________________________________________________\n",
      "dense_277 (Dense)            (None, 2)                 102       \n",
      "=================================================================\n",
      "Total params: 5,102\n",
      "Trainable params: 5,102\n",
      "Non-trainable params: 0\n",
      "_________________________________________________________________\n",
      "activation= relu\n",
      "Epoch 1/10\n",
      "905/905 [==============================] - 2s 3ms/step - loss: 0.3055 - accuracy: 0.8812\n",
      "Epoch 2/10\n",
      "905/905 [==============================] - 2s 3ms/step - loss: 0.2500 - accuracy: 0.8933\n",
      "Epoch 3/10\n",
      "905/905 [==============================] - 2s 3ms/step - loss: 0.2370 - accuracy: 0.8975\n",
      "Epoch 4/10\n",
      "905/905 [==============================] - 2s 3ms/step - loss: 0.2299 - accuracy: 0.9001\n",
      "Epoch 5/10\n",
      "905/905 [==============================] - 2s 3ms/step - loss: 0.2252 - accuracy: 0.9011\n",
      "Epoch 6/10\n",
      "905/905 [==============================] - 2s 3ms/step - loss: 0.2221 - accuracy: 0.9025\n",
      "Epoch 7/10\n",
      "905/905 [==============================] - 2s 3ms/step - loss: 0.2196 - accuracy: 0.9026\n",
      "Epoch 8/10\n",
      "905/905 [==============================] - 2s 3ms/step - loss: 0.2175 - accuracy: 0.9043\n",
      "Epoch 9/10\n",
      "905/905 [==============================] - 2s 3ms/step - loss: 0.2157 - accuracy: 0.9041\n",
      "Epoch 10/10\n",
      "905/905 [==============================] - 2s 3ms/step - loss: 0.2142 - accuracy: 0.9059\n",
      "227/227 [==============================] - 1s 2ms/step - loss: 0.2148 - accuracy: 0.9011\n",
      "Model: \"sequential_92\"\n",
      "_________________________________________________________________\n",
      "Layer (type)                 Output Shape              Param #   \n",
      "=================================================================\n",
      "dense_278 (Dense)            (None, 20)                980       \n",
      "_________________________________________________________________\n",
      "dense_279 (Dense)            (None, 10)                210       \n",
      "_________________________________________________________________\n",
      "dense_280 (Dense)            (None, 5)                 55        \n",
      "_________________________________________________________________\n",
      "dense_281 (Dense)            (None, 2)                 12        \n",
      "=================================================================\n",
      "Total params: 1,257\n",
      "Trainable params: 1,257\n",
      "Non-trainable params: 0\n",
      "_________________________________________________________________\n",
      "activation= relu\n",
      "Epoch 1/10\n",
      "905/905 [==============================] - 3s 3ms/step - loss: 0.3672 - accuracy: 0.8759\n",
      "Epoch 2/10\n",
      "905/905 [==============================] - 3s 3ms/step - loss: 0.2815 - accuracy: 0.8826\n",
      "Epoch 3/10\n",
      "905/905 [==============================] - 3s 3ms/step - loss: 0.2607 - accuracy: 0.8826\n",
      "Epoch 4/10\n",
      "905/905 [==============================] - 2s 3ms/step - loss: 0.2502 - accuracy: 0.8826\n",
      "Epoch 5/10\n",
      "905/905 [==============================] - 3s 3ms/step - loss: 0.2434 - accuracy: 0.8828\n",
      "Epoch 6/10\n",
      "905/905 [==============================] - 3s 3ms/step - loss: 0.2384 - accuracy: 0.8828\n",
      "Epoch 7/10\n",
      "905/905 [==============================] - 3s 3ms/step - loss: 0.2344 - accuracy: 0.8874\n",
      "Epoch 8/10\n",
      "905/905 [==============================] - 3s 3ms/step - loss: 0.2311 - accuracy: 0.8955\n",
      "Epoch 9/10\n",
      "905/905 [==============================] - 3s 3ms/step - loss: 0.2282 - accuracy: 0.8975\n",
      "Epoch 10/10\n",
      "905/905 [==============================] - 3s 3ms/step - loss: 0.2259 - accuracy: 0.8983\n",
      "227/227 [==============================] - 1s 2ms/step - loss: 0.2186 - accuracy: 0.9020\n",
      "Model: \"sequential_93\"\n",
      "_________________________________________________________________\n",
      "Layer (type)                 Output Shape              Param #   \n",
      "=================================================================\n",
      "dense_282 (Dense)            (None, 20)                980       \n",
      "_________________________________________________________________\n",
      "dense_283 (Dense)            (None, 10)                210       \n",
      "_________________________________________________________________\n",
      "dense_284 (Dense)            (None, 5)                 55        \n",
      "_________________________________________________________________\n",
      "dense_285 (Dense)            (None, 2)                 12        \n",
      "=================================================================\n",
      "Total params: 1,257\n",
      "Trainable params: 1,257\n",
      "Non-trainable params: 0\n",
      "_________________________________________________________________\n",
      "activation= relu\n",
      "Epoch 1/10\n",
      "905/905 [==============================] - 3s 3ms/step - loss: 0.3346 - accuracy: 0.8856\n",
      "Epoch 2/10\n",
      "905/905 [==============================] - 3s 3ms/step - loss: 0.2492 - accuracy: 0.8862\n",
      "Epoch 3/10\n",
      "905/905 [==============================] - 3s 3ms/step - loss: 0.2304 - accuracy: 0.8925\n",
      "Epoch 4/10\n",
      "905/905 [==============================] - 3s 3ms/step - loss: 0.2244 - accuracy: 0.8976\n",
      "Epoch 5/10\n",
      "905/905 [==============================] - 2s 3ms/step - loss: 0.2209 - accuracy: 0.8985\n",
      "Epoch 6/10\n",
      "905/905 [==============================] - 3s 3ms/step - loss: 0.2183 - accuracy: 0.9004\n",
      "Epoch 7/10\n",
      "905/905 [==============================] - 2s 3ms/step - loss: 0.2165 - accuracy: 0.9015\n",
      "Epoch 8/10\n",
      "905/905 [==============================] - 3s 3ms/step - loss: 0.2149 - accuracy: 0.9023\n",
      "Epoch 9/10\n",
      "905/905 [==============================] - 3s 3ms/step - loss: 0.2136 - accuracy: 0.9012\n",
      "Epoch 10/10\n",
      "905/905 [==============================] - 3s 3ms/step - loss: 0.2123 - accuracy: 0.9038\n",
      "227/227 [==============================] - 1s 2ms/step - loss: 0.2258 - accuracy: 0.8977\n",
      "Model: \"sequential_94\"\n",
      "_________________________________________________________________\n",
      "Layer (type)                 Output Shape              Param #   \n",
      "=================================================================\n",
      "dense_286 (Dense)            (None, 20)                980       \n",
      "_________________________________________________________________\n",
      "dense_287 (Dense)            (None, 10)                210       \n",
      "_________________________________________________________________\n",
      "dense_288 (Dense)            (None, 5)                 55        \n",
      "_________________________________________________________________\n",
      "dense_289 (Dense)            (None, 2)                 12        \n",
      "=================================================================\n",
      "Total params: 1,257\n",
      "Trainable params: 1,257\n",
      "Non-trainable params: 0\n",
      "_________________________________________________________________\n",
      "activation= relu\n",
      "Epoch 1/10\n",
      "905/905 [==============================] - 3s 3ms/step - loss: 0.2935 - accuracy: 0.8834\n",
      "Epoch 2/10\n",
      "905/905 [==============================] - 3s 3ms/step - loss: 0.2458 - accuracy: 0.8881\n",
      "Epoch 3/10\n",
      "905/905 [==============================] - 3s 3ms/step - loss: 0.2349 - accuracy: 0.8927\n",
      "Epoch 4/10\n",
      "905/905 [==============================] - 3s 3ms/step - loss: 0.2301 - accuracy: 0.8954\n",
      "Epoch 5/10\n",
      "905/905 [==============================] - 3s 3ms/step - loss: 0.2268 - accuracy: 0.8972\n",
      "Epoch 6/10\n",
      "905/905 [==============================] - 3s 3ms/step - loss: 0.2241 - accuracy: 0.8986\n",
      "Epoch 7/10\n",
      "905/905 [==============================] - 2s 3ms/step - loss: 0.2222 - accuracy: 0.8994\n",
      "Epoch 8/10\n",
      "905/905 [==============================] - 3s 3ms/step - loss: 0.2207 - accuracy: 0.9003\n",
      "Epoch 9/10\n",
      "905/905 [==============================] - 3s 3ms/step - loss: 0.2194 - accuracy: 0.9009\n",
      "Epoch 10/10\n",
      "905/905 [==============================] - 2s 3ms/step - loss: 0.2184 - accuracy: 0.9012\n",
      "227/227 [==============================] - 1s 2ms/step - loss: 0.2255 - accuracy: 0.9020\n",
      "Model: \"sequential_95\"\n",
      "_________________________________________________________________\n",
      "Layer (type)                 Output Shape              Param #   \n",
      "=================================================================\n",
      "dense_290 (Dense)            (None, 20)                980       \n",
      "_________________________________________________________________\n",
      "dense_291 (Dense)            (None, 10)                210       \n",
      "_________________________________________________________________\n",
      "dense_292 (Dense)            (None, 5)                 55        \n",
      "_________________________________________________________________\n",
      "dense_293 (Dense)            (None, 2)                 12        \n",
      "=================================================================\n",
      "Total params: 1,257\n",
      "Trainable params: 1,257\n",
      "Non-trainable params: 0\n",
      "_________________________________________________________________\n",
      "activation= relu\n",
      "Epoch 1/10\n",
      "905/905 [==============================] - 2s 3ms/step - loss: 0.3719 - accuracy: 0.8812\n",
      "Epoch 2/10\n",
      "905/905 [==============================] - 2s 3ms/step - loss: 0.2632 - accuracy: 0.8866\n",
      "Epoch 3/10\n",
      "905/905 [==============================] - 3s 3ms/step - loss: 0.2408 - accuracy: 0.8941\n",
      "Epoch 4/10\n",
      "905/905 [==============================] - 3s 3ms/step - loss: 0.2329 - accuracy: 0.8980\n",
      "Epoch 5/10\n",
      "905/905 [==============================] - 3s 3ms/step - loss: 0.2283 - accuracy: 0.9005\n",
      "Epoch 6/10\n",
      "905/905 [==============================] - 3s 3ms/step - loss: 0.2249 - accuracy: 0.9009\n",
      "Epoch 7/10\n",
      "905/905 [==============================] - 2s 3ms/step - loss: 0.2223 - accuracy: 0.9010\n",
      "Epoch 8/10\n",
      "905/905 [==============================] - 3s 3ms/step - loss: 0.2203 - accuracy: 0.9029\n",
      "Epoch 9/10\n",
      "905/905 [==============================] - 3s 3ms/step - loss: 0.2186 - accuracy: 0.9030\n",
      "Epoch 10/10\n",
      "905/905 [==============================] - 3s 3ms/step - loss: 0.2177 - accuracy: 0.9040\n",
      "227/227 [==============================] - 1s 2ms/step - loss: 0.2180 - accuracy: 0.9056\n",
      "Model: \"sequential_96\"\n",
      "_________________________________________________________________\n",
      "Layer (type)                 Output Shape              Param #   \n",
      "=================================================================\n",
      "dense_294 (Dense)            (None, 20)                980       \n",
      "_________________________________________________________________\n",
      "dense_295 (Dense)            (None, 10)                210       \n",
      "_________________________________________________________________\n",
      "dense_296 (Dense)            (None, 5)                 55        \n",
      "_________________________________________________________________\n",
      "dense_297 (Dense)            (None, 2)                 12        \n",
      "=================================================================\n",
      "Total params: 1,257\n",
      "Trainable params: 1,257\n",
      "Non-trainable params: 0\n",
      "_________________________________________________________________\n",
      "activation= relu\n",
      "Epoch 1/10\n",
      "905/905 [==============================] - 3s 3ms/step - loss: 0.3365 - accuracy: 0.8835\n",
      "Epoch 2/10\n",
      "905/905 [==============================] - 3s 3ms/step - loss: 0.2578 - accuracy: 0.8844\n",
      "Epoch 3/10\n",
      "905/905 [==============================] - 3s 3ms/step - loss: 0.2435 - accuracy: 0.8863\n",
      "Epoch 4/10\n",
      "905/905 [==============================] - 3s 3ms/step - loss: 0.2363 - accuracy: 0.8889\n",
      "Epoch 5/10\n",
      "905/905 [==============================] - 3s 3ms/step - loss: 0.2318 - accuracy: 0.8908\n",
      "Epoch 6/10\n",
      "905/905 [==============================] - 3s 3ms/step - loss: 0.2282 - accuracy: 0.8949\n",
      "Epoch 7/10\n",
      "905/905 [==============================] - 3s 3ms/step - loss: 0.2255 - accuracy: 0.8963\n",
      "Epoch 8/10\n",
      "905/905 [==============================] - 3s 3ms/step - loss: 0.2235 - accuracy: 0.8978\n",
      "Epoch 9/10\n",
      "905/905 [==============================] - 3s 3ms/step - loss: 0.2213 - accuracy: 0.8987\n",
      "Epoch 10/10\n",
      "905/905 [==============================] - 3s 3ms/step - loss: 0.2195 - accuracy: 0.9013\n",
      "227/227 [==============================] - 1s 2ms/step - loss: 0.2151 - accuracy: 0.9036\n",
      "Model: \"sequential_97\"\n",
      "_________________________________________________________________\n",
      "Layer (type)                 Output Shape              Param #   \n",
      "=================================================================\n",
      "dense_298 (Dense)            (None, 40)                1960      \n",
      "_________________________________________________________________\n",
      "dense_299 (Dense)            (None, 20)                820       \n",
      "_________________________________________________________________\n",
      "dense_300 (Dense)            (None, 5)                 105       \n",
      "_________________________________________________________________\n",
      "dense_301 (Dense)            (None, 2)                 12        \n",
      "=================================================================\n",
      "Total params: 2,897\n",
      "Trainable params: 2,897\n",
      "Non-trainable params: 0\n",
      "_________________________________________________________________\n",
      "activation= relu\n",
      "Epoch 1/10\n",
      "905/905 [==============================] - 3s 3ms/step - loss: 0.3352 - accuracy: 0.8756\n",
      "Epoch 2/10\n",
      "905/905 [==============================] - 3s 3ms/step - loss: 0.2574 - accuracy: 0.8897\n",
      "Epoch 3/10\n",
      "905/905 [==============================] - 3s 3ms/step - loss: 0.2405 - accuracy: 0.8932\n",
      "Epoch 4/10\n",
      "905/905 [==============================] - 3s 3ms/step - loss: 0.2329 - accuracy: 0.8962\n",
      "Epoch 5/10\n",
      "905/905 [==============================] - 2s 3ms/step - loss: 0.2279 - accuracy: 0.8990\n",
      "Epoch 6/10\n",
      "905/905 [==============================] - 3s 3ms/step - loss: 0.2247 - accuracy: 0.8997\n",
      "Epoch 7/10\n",
      "905/905 [==============================] - 2s 3ms/step - loss: 0.2215 - accuracy: 0.9016\n",
      "Epoch 8/10\n",
      "905/905 [==============================] - 2s 3ms/step - loss: 0.2197 - accuracy: 0.9019\n",
      "Epoch 9/10\n",
      "905/905 [==============================] - 2s 3ms/step - loss: 0.2178 - accuracy: 0.9028\n",
      "Epoch 10/10\n",
      "905/905 [==============================] - 2s 3ms/step - loss: 0.2164 - accuracy: 0.9026\n",
      "227/227 [==============================] - 1s 2ms/step - loss: 0.2140 - accuracy: 0.9016\n",
      "Model: \"sequential_98\"\n",
      "_________________________________________________________________\n",
      "Layer (type)                 Output Shape              Param #   \n",
      "=================================================================\n",
      "dense_302 (Dense)            (None, 40)                1960      \n",
      "_________________________________________________________________\n",
      "dense_303 (Dense)            (None, 20)                820       \n",
      "_________________________________________________________________\n",
      "dense_304 (Dense)            (None, 5)                 105       \n",
      "_________________________________________________________________\n",
      "dense_305 (Dense)            (None, 2)                 12        \n",
      "=================================================================\n",
      "Total params: 2,897\n",
      "Trainable params: 2,897\n",
      "Non-trainable params: 0\n",
      "_________________________________________________________________\n",
      "activation= relu\n",
      "Epoch 1/10\n",
      "905/905 [==============================] - 2s 3ms/step - loss: 0.2934 - accuracy: 0.8898\n",
      "Epoch 2/10\n",
      "905/905 [==============================] - 2s 3ms/step - loss: 0.2381 - accuracy: 0.8978\n",
      "Epoch 3/10\n",
      "905/905 [==============================] - 3s 3ms/step - loss: 0.2283 - accuracy: 0.9017\n",
      "Epoch 4/10\n",
      "905/905 [==============================] - 2s 3ms/step - loss: 0.2236 - accuracy: 0.9031\n",
      "Epoch 5/10\n",
      "905/905 [==============================] - 3s 3ms/step - loss: 0.2202 - accuracy: 0.9031\n",
      "Epoch 6/10\n",
      "905/905 [==============================] - 2s 3ms/step - loss: 0.2173 - accuracy: 0.9048\n",
      "Epoch 7/10\n",
      "905/905 [==============================] - 3s 3ms/step - loss: 0.2156 - accuracy: 0.9043\n",
      "Epoch 8/10\n",
      "905/905 [==============================] - 2s 3ms/step - loss: 0.2138 - accuracy: 0.9056\n",
      "Epoch 9/10\n",
      "905/905 [==============================] - 2s 3ms/step - loss: 0.2124 - accuracy: 0.9055\n",
      "Epoch 10/10\n",
      "905/905 [==============================] - 2s 3ms/step - loss: 0.2110 - accuracy: 0.9068\n",
      "227/227 [==============================] - 1s 2ms/step - loss: 0.2319 - accuracy: 0.8985\n",
      "Model: \"sequential_99\"\n",
      "_________________________________________________________________\n",
      "Layer (type)                 Output Shape              Param #   \n",
      "=================================================================\n",
      "dense_306 (Dense)            (None, 40)                1960      \n",
      "_________________________________________________________________\n",
      "dense_307 (Dense)            (None, 20)                820       \n",
      "_________________________________________________________________\n",
      "dense_308 (Dense)            (None, 5)                 105       \n",
      "_________________________________________________________________\n",
      "dense_309 (Dense)            (None, 2)                 12        \n",
      "=================================================================\n",
      "Total params: 2,897\n",
      "Trainable params: 2,897\n",
      "Non-trainable params: 0\n",
      "_________________________________________________________________\n",
      "activation= relu\n",
      "Epoch 1/10\n",
      "905/905 [==============================] - 3s 3ms/step - loss: 0.3395 - accuracy: 0.8814\n",
      "Epoch 2/10\n",
      "905/905 [==============================] - 2s 3ms/step - loss: 0.2562 - accuracy: 0.8865\n",
      "Epoch 3/10\n",
      "905/905 [==============================] - 2s 3ms/step - loss: 0.2391 - accuracy: 0.8906\n",
      "Epoch 4/10\n",
      "905/905 [==============================] - 2s 3ms/step - loss: 0.2307 - accuracy: 0.8942\n",
      "Epoch 5/10\n",
      "905/905 [==============================] - 2s 3ms/step - loss: 0.2253 - accuracy: 0.8967\n",
      "Epoch 6/10\n",
      "905/905 [==============================] - 2s 3ms/step - loss: 0.2215 - accuracy: 0.8994\n",
      "Epoch 7/10\n",
      "905/905 [==============================] - 2s 3ms/step - loss: 0.2185 - accuracy: 0.9014\n",
      "Epoch 8/10\n",
      "905/905 [==============================] - 3s 3ms/step - loss: 0.2163 - accuracy: 0.9015\n",
      "Epoch 9/10\n",
      "905/905 [==============================] - 2s 3ms/step - loss: 0.2146 - accuracy: 0.9018\n",
      "Epoch 10/10\n",
      "905/905 [==============================] - 2s 3ms/step - loss: 0.2129 - accuracy: 0.9029\n",
      "227/227 [==============================] - 1s 2ms/step - loss: 0.2200 - accuracy: 0.9035\n",
      "Model: \"sequential_100\"\n",
      "_________________________________________________________________\n",
      "Layer (type)                 Output Shape              Param #   \n",
      "=================================================================\n",
      "dense_310 (Dense)            (None, 40)                1960      \n",
      "_________________________________________________________________\n",
      "dense_311 (Dense)            (None, 20)                820       \n",
      "_________________________________________________________________\n",
      "dense_312 (Dense)            (None, 5)                 105       \n",
      "_________________________________________________________________\n",
      "dense_313 (Dense)            (None, 2)                 12        \n",
      "=================================================================\n",
      "Total params: 2,897\n",
      "Trainable params: 2,897\n",
      "Non-trainable params: 0\n",
      "_________________________________________________________________\n",
      "activation= relu\n",
      "Epoch 1/10\n",
      "905/905 [==============================] - 2s 3ms/step - loss: 0.3002 - accuracy: 0.8824\n",
      "Epoch 2/10\n",
      "905/905 [==============================] - 2s 3ms/step - loss: 0.2429 - accuracy: 0.8949\n",
      "Epoch 3/10\n",
      "905/905 [==============================] - 2s 3ms/step - loss: 0.2333 - accuracy: 0.8980\n",
      "Epoch 4/10\n",
      "905/905 [==============================] - 2s 3ms/step - loss: 0.2278 - accuracy: 0.8997\n",
      "Epoch 5/10\n",
      "905/905 [==============================] - 2s 3ms/step - loss: 0.2237 - accuracy: 0.9018\n",
      "Epoch 6/10\n",
      "905/905 [==============================] - 3s 3ms/step - loss: 0.2205 - accuracy: 0.9028\n",
      "Epoch 7/10\n",
      "905/905 [==============================] - 2s 3ms/step - loss: 0.2180 - accuracy: 0.9033\n",
      "Epoch 8/10\n",
      "905/905 [==============================] - 3s 3ms/step - loss: 0.2159 - accuracy: 0.9035\n",
      "Epoch 9/10\n",
      "905/905 [==============================] - 2s 3ms/step - loss: 0.2138 - accuracy: 0.9040\n",
      "Epoch 10/10\n",
      "905/905 [==============================] - 2s 3ms/step - loss: 0.2123 - accuracy: 0.9055\n",
      "227/227 [==============================] - 1s 2ms/step - loss: 0.2151 - accuracy: 0.9043\n",
      "Model: \"sequential_101\"\n",
      "_________________________________________________________________\n",
      "Layer (type)                 Output Shape              Param #   \n",
      "=================================================================\n",
      "dense_314 (Dense)            (None, 40)                1960      \n",
      "_________________________________________________________________\n",
      "dense_315 (Dense)            (None, 20)                820       \n",
      "_________________________________________________________________\n",
      "dense_316 (Dense)            (None, 5)                 105       \n",
      "_________________________________________________________________\n",
      "dense_317 (Dense)            (None, 2)                 12        \n",
      "=================================================================\n",
      "Total params: 2,897\n",
      "Trainable params: 2,897\n",
      "Non-trainable params: 0\n",
      "_________________________________________________________________\n",
      "activation= relu\n",
      "Epoch 1/10\n",
      "905/905 [==============================] - 3s 3ms/step - loss: 0.3092 - accuracy: 0.8819\n",
      "Epoch 2/10\n",
      "905/905 [==============================] - 3s 3ms/step - loss: 0.2518 - accuracy: 0.8923\n",
      "Epoch 3/10\n",
      "905/905 [==============================] - 2s 3ms/step - loss: 0.2393 - accuracy: 0.8963\n",
      "Epoch 4/10\n",
      "905/905 [==============================] - 3s 3ms/step - loss: 0.2322 - accuracy: 0.8991\n",
      "Epoch 5/10\n",
      "905/905 [==============================] - 3s 3ms/step - loss: 0.2276 - accuracy: 0.9002\n",
      "Epoch 6/10\n",
      "905/905 [==============================] - 3s 3ms/step - loss: 0.2241 - accuracy: 0.9015\n",
      "Epoch 7/10\n",
      "905/905 [==============================] - 3s 3ms/step - loss: 0.2214 - accuracy: 0.9031\n",
      "Epoch 8/10\n",
      "905/905 [==============================] - 3s 3ms/step - loss: 0.2191 - accuracy: 0.9031\n",
      "Epoch 9/10\n",
      "905/905 [==============================] - 3s 3ms/step - loss: 0.2170 - accuracy: 0.9041\n",
      "Epoch 10/10\n",
      "905/905 [==============================] - 3s 3ms/step - loss: 0.2154 - accuracy: 0.9042\n",
      "227/227 [==============================] - 1s 2ms/step - loss: 0.2146 - accuracy: 0.9034\n",
      "Model: \"sequential_102\"\n",
      "_________________________________________________________________\n",
      "Layer (type)                 Output Shape              Param #   \n",
      "=================================================================\n",
      "dense_318 (Dense)            (None, 100)               4900      \n",
      "_________________________________________________________________\n",
      "dense_319 (Dense)            (None, 50)                5050      \n",
      "_________________________________________________________________\n",
      "dense_320 (Dense)            (None, 10)                510       \n",
      "_________________________________________________________________\n",
      "dense_321 (Dense)            (None, 2)                 22        \n",
      "=================================================================\n",
      "Total params: 10,482\n",
      "Trainable params: 10,482\n",
      "Non-trainable params: 0\n",
      "_________________________________________________________________\n",
      "activation= relu\n",
      "Epoch 1/10\n",
      "905/905 [==============================] - 3s 3ms/step - loss: 0.2807 - accuracy: 0.8862\n",
      "Epoch 2/10\n",
      "905/905 [==============================] - 3s 3ms/step - loss: 0.2344 - accuracy: 0.8977\n",
      "Epoch 3/10\n",
      "905/905 [==============================] - 3s 3ms/step - loss: 0.2251 - accuracy: 0.9016\n",
      "Epoch 4/10\n",
      "905/905 [==============================] - 3s 3ms/step - loss: 0.2200 - accuracy: 0.9028\n",
      "Epoch 5/10\n",
      "905/905 [==============================] - 3s 3ms/step - loss: 0.2168 - accuracy: 0.9044\n",
      "Epoch 6/10\n",
      "905/905 [==============================] - 3s 3ms/step - loss: 0.2142 - accuracy: 0.9052\n",
      "Epoch 7/10\n",
      "905/905 [==============================] - 3s 3ms/step - loss: 0.2122 - accuracy: 0.9060\n",
      "Epoch 8/10\n",
      "905/905 [==============================] - 2s 3ms/step - loss: 0.2103 - accuracy: 0.9069\n",
      "Epoch 9/10\n",
      "905/905 [==============================] - 3s 3ms/step - loss: 0.2085 - accuracy: 0.9072\n",
      "Epoch 10/10\n",
      "905/905 [==============================] - 3s 3ms/step - loss: 0.2072 - accuracy: 0.9088\n",
      "227/227 [==============================] - 1s 2ms/step - loss: 0.2066 - accuracy: 0.9042\n",
      "Model: \"sequential_103\"\n",
      "_________________________________________________________________\n",
      "Layer (type)                 Output Shape              Param #   \n",
      "=================================================================\n",
      "dense_322 (Dense)            (None, 100)               4900      \n",
      "_________________________________________________________________\n",
      "dense_323 (Dense)            (None, 50)                5050      \n",
      "_________________________________________________________________\n",
      "dense_324 (Dense)            (None, 10)                510       \n",
      "_________________________________________________________________\n",
      "dense_325 (Dense)            (None, 2)                 22        \n",
      "=================================================================\n",
      "Total params: 10,482\n",
      "Trainable params: 10,482\n",
      "Non-trainable params: 0\n",
      "_________________________________________________________________\n",
      "activation= relu\n",
      "Epoch 1/10\n",
      "905/905 [==============================] - 2s 3ms/step - loss: 0.3268 - accuracy: 0.8824\n",
      "Epoch 2/10\n",
      "905/905 [==============================] - 2s 3ms/step - loss: 0.2428 - accuracy: 0.8930\n",
      "Epoch 3/10\n",
      "905/905 [==============================] - 3s 3ms/step - loss: 0.2305 - accuracy: 0.9006\n",
      "Epoch 4/10\n",
      "905/905 [==============================] - 3s 3ms/step - loss: 0.2244 - accuracy: 0.9028\n",
      "Epoch 5/10\n",
      "905/905 [==============================] - 3s 3ms/step - loss: 0.2198 - accuracy: 0.9043\n",
      "Epoch 6/10\n",
      "905/905 [==============================] - 3s 3ms/step - loss: 0.2163 - accuracy: 0.9050\n",
      "Epoch 7/10\n",
      "905/905 [==============================] - 3s 3ms/step - loss: 0.2133 - accuracy: 0.9065\n",
      "Epoch 8/10\n",
      "905/905 [==============================] - 3s 3ms/step - loss: 0.2112 - accuracy: 0.9070\n",
      "Epoch 9/10\n",
      "905/905 [==============================] - 3s 3ms/step - loss: 0.2090 - accuracy: 0.9070\n",
      "Epoch 10/10\n",
      "905/905 [==============================] - 3s 3ms/step - loss: 0.2074 - accuracy: 0.9081\n",
      "227/227 [==============================] - 1s 2ms/step - loss: 0.2216 - accuracy: 0.9027\n",
      "Model: \"sequential_104\"\n",
      "_________________________________________________________________\n",
      "Layer (type)                 Output Shape              Param #   \n",
      "=================================================================\n",
      "dense_326 (Dense)            (None, 100)               4900      \n",
      "_________________________________________________________________\n",
      "dense_327 (Dense)            (None, 50)                5050      \n",
      "_________________________________________________________________\n",
      "dense_328 (Dense)            (None, 10)                510       \n",
      "_________________________________________________________________\n",
      "dense_329 (Dense)            (None, 2)                 22        \n",
      "=================================================================\n",
      "Total params: 10,482\n",
      "Trainable params: 10,482\n",
      "Non-trainable params: 0\n",
      "_________________________________________________________________\n",
      "activation= relu\n",
      "Epoch 1/10\n",
      "905/905 [==============================] - 2s 3ms/step - loss: 0.2950 - accuracy: 0.8853\n",
      "Epoch 2/10\n",
      "905/905 [==============================] - 3s 3ms/step - loss: 0.2421 - accuracy: 0.8940\n",
      "Epoch 3/10\n",
      "905/905 [==============================] - 3s 3ms/step - loss: 0.2296 - accuracy: 0.8979\n",
      "Epoch 4/10\n",
      "905/905 [==============================] - 3s 3ms/step - loss: 0.2226 - accuracy: 0.9019\n",
      "Epoch 5/10\n",
      "905/905 [==============================] - 2s 3ms/step - loss: 0.2178 - accuracy: 0.9036\n",
      "Epoch 6/10\n",
      "905/905 [==============================] - 3s 3ms/step - loss: 0.2148 - accuracy: 0.9040\n",
      "Epoch 7/10\n",
      "905/905 [==============================] - 3s 3ms/step - loss: 0.2127 - accuracy: 0.9048\n",
      "Epoch 8/10\n",
      "905/905 [==============================] - 3s 3ms/step - loss: 0.2107 - accuracy: 0.9056\n",
      "Epoch 9/10\n",
      "905/905 [==============================] - 3s 3ms/step - loss: 0.2092 - accuracy: 0.9057\n",
      "Epoch 10/10\n",
      "905/905 [==============================] - 3s 3ms/step - loss: 0.2078 - accuracy: 0.9070\n",
      "227/227 [==============================] - 1s 3ms/step - loss: 0.2172 - accuracy: 0.9056\n",
      "Model: \"sequential_105\"\n",
      "_________________________________________________________________\n",
      "Layer (type)                 Output Shape              Param #   \n",
      "=================================================================\n",
      "dense_330 (Dense)            (None, 100)               4900      \n",
      "_________________________________________________________________\n",
      "dense_331 (Dense)            (None, 50)                5050      \n",
      "_________________________________________________________________\n",
      "dense_332 (Dense)            (None, 10)                510       \n",
      "_________________________________________________________________\n",
      "dense_333 (Dense)            (None, 2)                 22        \n",
      "=================================================================\n",
      "Total params: 10,482\n",
      "Trainable params: 10,482\n",
      "Non-trainable params: 0\n",
      "_________________________________________________________________\n",
      "activation= relu\n",
      "Epoch 1/10\n",
      "905/905 [==============================] - 3s 3ms/step - loss: 0.3056 - accuracy: 0.8824\n",
      "Epoch 2/10\n",
      "905/905 [==============================] - 3s 3ms/step - loss: 0.2433 - accuracy: 0.8967\n",
      "Epoch 3/10\n",
      "905/905 [==============================] - 3s 3ms/step - loss: 0.2319 - accuracy: 0.8994\n",
      "Epoch 4/10\n",
      "905/905 [==============================] - 3s 3ms/step - loss: 0.2256 - accuracy: 0.9004\n",
      "Epoch 5/10\n",
      "905/905 [==============================] - 3s 3ms/step - loss: 0.2215 - accuracy: 0.9033\n",
      "Epoch 6/10\n",
      "905/905 [==============================] - 3s 3ms/step - loss: 0.2182 - accuracy: 0.9034\n",
      "Epoch 7/10\n",
      "905/905 [==============================] - 3s 3ms/step - loss: 0.2157 - accuracy: 0.9041\n",
      "Epoch 8/10\n",
      "905/905 [==============================] - 3s 3ms/step - loss: 0.2137 - accuracy: 0.9055\n",
      "Epoch 9/10\n",
      "905/905 [==============================] - 3s 3ms/step - loss: 0.2119 - accuracy: 0.9055\n",
      "Epoch 10/10\n",
      "905/905 [==============================] - 3s 3ms/step - loss: 0.2104 - accuracy: 0.9065\n",
      "227/227 [==============================] - 1s 2ms/step - loss: 0.2172 - accuracy: 0.9028\n",
      "Model: \"sequential_106\"\n",
      "_________________________________________________________________\n",
      "Layer (type)                 Output Shape              Param #   \n",
      "=================================================================\n",
      "dense_334 (Dense)            (None, 100)               4900      \n",
      "_________________________________________________________________\n",
      "dense_335 (Dense)            (None, 50)                5050      \n",
      "_________________________________________________________________\n",
      "dense_336 (Dense)            (None, 10)                510       \n",
      "_________________________________________________________________\n",
      "dense_337 (Dense)            (None, 2)                 22        \n",
      "=================================================================\n",
      "Total params: 10,482\n",
      "Trainable params: 10,482\n",
      "Non-trainable params: 0\n",
      "_________________________________________________________________\n",
      "activation= relu\n",
      "Epoch 1/10\n",
      "905/905 [==============================] - 3s 3ms/step - loss: 0.2747 - accuracy: 0.8888\n",
      "Epoch 2/10\n",
      "905/905 [==============================] - 3s 3ms/step - loss: 0.2337 - accuracy: 0.8969\n",
      "Epoch 3/10\n",
      "905/905 [==============================] - 3s 3ms/step - loss: 0.2250 - accuracy: 0.9006\n",
      "Epoch 4/10\n",
      "905/905 [==============================] - 3s 3ms/step - loss: 0.2200 - accuracy: 0.9021\n",
      "Epoch 5/10\n",
      "905/905 [==============================] - 3s 3ms/step - loss: 0.2171 - accuracy: 0.9042\n",
      "Epoch 6/10\n",
      "905/905 [==============================] - 3s 3ms/step - loss: 0.2146 - accuracy: 0.9042\n",
      "Epoch 7/10\n",
      "905/905 [==============================] - 3s 3ms/step - loss: 0.2129 - accuracy: 0.9057\n",
      "Epoch 8/10\n",
      "905/905 [==============================] - 3s 3ms/step - loss: 0.2108 - accuracy: 0.9063\n",
      "Epoch 9/10\n",
      "905/905 [==============================] - 3s 3ms/step - loss: 0.2091 - accuracy: 0.9065\n",
      "Epoch 10/10\n",
      "905/905 [==============================] - 3s 3ms/step - loss: 0.2081 - accuracy: 0.9063\n",
      "227/227 [==============================] - 1s 2ms/step - loss: 0.2092 - accuracy: 0.9034\n",
      "Model: \"sequential_107\"\n",
      "_________________________________________________________________\n",
      "Layer (type)                 Output Shape              Param #   \n",
      "=================================================================\n",
      "dense_338 (Dense)            (None, 100)               4900      \n",
      "_________________________________________________________________\n",
      "dense_339 (Dense)            (None, 50)                5050      \n",
      "_________________________________________________________________\n",
      "dense_340 (Dense)            (None, 10)                510       \n",
      "_________________________________________________________________\n",
      "dense_341 (Dense)            (None, 2)                 22        \n",
      "=================================================================\n",
      "Total params: 10,482\n",
      "Trainable params: 10,482\n",
      "Non-trainable params: 0\n",
      "_________________________________________________________________\n",
      "activation= relu\n",
      "Epoch 1/10\n",
      "1131/1131 [==============================] - 3s 3ms/step - loss: 0.2892 - accuracy: 0.8881\n",
      "Epoch 2/10\n",
      "1131/1131 [==============================] - 3s 3ms/step - loss: 0.2375 - accuracy: 0.8976\n",
      "Epoch 3/10\n",
      "1131/1131 [==============================] - 3s 3ms/step - loss: 0.2270 - accuracy: 0.9006\n",
      "Epoch 4/10\n",
      "1131/1131 [==============================] - 3s 3ms/step - loss: 0.2214 - accuracy: 0.9024\n",
      "Epoch 5/10\n",
      "1131/1131 [==============================] - 3s 3ms/step - loss: 0.2177 - accuracy: 0.9028\n",
      "Epoch 6/10\n",
      "1131/1131 [==============================] - 3s 3ms/step - loss: 0.2151 - accuracy: 0.9036\n",
      "Epoch 7/10\n",
      "1131/1131 [==============================] - 3s 3ms/step - loss: 0.2129 - accuracy: 0.9042\n",
      "Epoch 8/10\n",
      "1131/1131 [==============================] - 3s 3ms/step - loss: 0.2108 - accuracy: 0.9053\n",
      "Epoch 9/10\n",
      "1131/1131 [==============================] - 3s 3ms/step - loss: 0.2092 - accuracy: 0.9067\n",
      "Epoch 10/10\n",
      "1131/1131 [==============================] - 3s 3ms/step - loss: 0.2075 - accuracy: 0.9067\n"
     ]
    },
    {
     "data": {
      "text/plain": [
       "GridSearchCV(cv=None, error_score=nan,\n",
       "             estimator=<tensorflow.python.keras.wrappers.scikit_learn.KerasClassifier object at 0x7f9070029a20>,\n",
       "             iid='deprecated', n_jobs=None,\n",
       "             param_grid=[{'activation': ['sigmoid', 'tanh', 'relu'],\n",
       "                          'hidden_layer_sizes': [(10,), (20,), (20, 20),\n",
       "                                                 (50, 50), (20, 10, 5),\n",
       "                                                 (40, 20, 5), (100, 50, 10)]}],\n",
       "             pre_dispatch='2*n_jobs', refit=True, return_train_score=False,\n",
       "             scoring=None, verbose=0)"
      ]
     },
     "execution_count": 31,
     "metadata": {
      "tags": []
     },
     "output_type": "execute_result"
    },
    {
     "name": "stdout",
     "output_type": "stream",
     "text": [
      "time: 45min 41s\n"
     ]
    }
   ],
   "source": [
    "from sklearn.model_selection import GridSearchCV\n",
    "\n",
    "param_grid = [\n",
    " {'hidden_layer_sizes': [(10,), (20,), (20,20), (50,50), (20,10,5), (40,20,5), (100,50,10)],\n",
    "  'activation': ['sigmoid', 'tanh', 'relu']},\n",
    " ]\n",
    "\n",
    "grid_search = GridSearchCV(mlpKerasTF_clf, param_grid)\n",
    "grid_search.fit(X_treino, y_treino, epochs=10)"
   ]
  },
  {
   "cell_type": "code",
   "execution_count": null,
   "metadata": {
    "colab": {
     "base_uri": "https://localhost:8080/",
     "height": 34
    },
    "colab_type": "code",
    "id": "n9F8hic5cA2_",
    "outputId": "d3f86a53-e5c7-41e1-9d45-1d44123378c0"
   },
   "outputs": [
    {
     "data": {
      "text/plain": [
       "{'activation': 'relu', 'hidden_layer_sizes': (100, 50, 10)}"
      ]
     },
     "execution_count": 32,
     "metadata": {
      "tags": []
     },
     "output_type": "execute_result"
    },
    {
     "name": "stdout",
     "output_type": "stream",
     "text": [
      "time: 7.07 ms\n"
     ]
    }
   ],
   "source": [
    "grid_search.best_params_"
   ]
  },
  {
   "cell_type": "code",
   "execution_count": null,
   "metadata": {
    "colab": {
     "base_uri": "https://localhost:8080/",
     "height": 119
    },
    "colab_type": "code",
    "id": "YurkEVSQcEV1",
    "outputId": "3e9b601d-85ef-4e90-d258-f9b9f8c5b196"
   },
   "outputs": [
    {
     "name": "stdout",
     "output_type": "stream",
     "text": [
      "Best MLPKerasTF:\n",
      "Acurácia:  0.9030189096538759\n",
      "Precisão:  0.613588110403397\n",
      "Recall:    0.5297891842346472\n",
      "F1 Score:  0.5686178061977373\n",
      "time: 295 ms\n"
     ]
    }
   ],
   "source": [
    "y_previsto = grid_search.best_estimator_.predict(X_teste)\n",
    "print(\"Best MLPKerasTF:\")\n",
    "print(\"Acurácia: \", accuracy_score(y_teste,y_previsto))\n",
    "print(\"Precisão: \", precision_score(y_teste,y_previsto))\n",
    "print(\"Recall:   \", recall_score(y_teste,y_previsto))\n",
    "print(\"F1 Score: \", f1_score(y_teste,y_previsto))"
   ]
  },
  {
   "cell_type": "code",
   "execution_count": null,
   "metadata": {
    "colab": {
     "base_uri": "https://localhost:8080/",
     "height": 34
    },
    "colab_type": "code",
    "id": "_3oLHfLUcTY8",
    "outputId": "086cd5e6-732a-4267-bcc1-c74d9b2ee9ad"
   },
   "outputs": [
    {
     "name": "stdout",
     "output_type": "stream",
     "text": [
      "time: 70.3 ms\n"
     ]
    }
   ],
   "source": [
    "# construção de um modelo Deep & Wide\n",
    "# para mais informações: https://arxiv.org/abs/1606.07792\n",
    "\n",
    "input_  = keras.layers.Input(shape=X_treino.shape[1:])\n",
    "hidden1 = keras.layers.Dense(100,activation=\"relu\")(input_)\n",
    "hidden2 = keras.layers.Dense(50,activation=\"relu\")(hidden1)\n",
    "hidden3 = keras.layers.Dense(10,activation=\"relu\")(hidden2)\n",
    "concat  = keras.layers.Concatenate()([input_,hidden3])\n",
    "output  = keras.layers.Dense(1,activation=\"sigmoid\")(concat)\n",
    "modelDW   = keras.Model(inputs=[input_],outputs=[output])\n",
    "\n",
    "modelDW.compile(loss=\"binary_crossentropy\",\n",
    "                optimizer=\"sgd\",\n",
    "                metrics=[\"accuracy\"])"
   ]
  },
  {
   "cell_type": "code",
   "execution_count": null,
   "metadata": {
    "colab": {
     "base_uri": "https://localhost:8080/",
     "height": 1000
    },
    "colab_type": "code",
    "id": "Bxi8_EwccW62",
    "outputId": "9f772584-0c67-4253-a570-4a2ae0dba85a"
   },
   "outputs": [
    {
     "name": "stdout",
     "output_type": "stream",
     "text": [
      "logdir =  ./logs/run_2020_06_25-12_31_19\n",
      "Epoch 1/200\n",
      "905/905 [==============================] - 5s 6ms/step - loss: 0.3177 - accuracy: 0.8828 - val_loss: 0.2727 - val_accuracy: 0.8895\n",
      "Epoch 2/200\n",
      "905/905 [==============================] - 5s 5ms/step - loss: 0.2683 - accuracy: 0.8920 - val_loss: 0.2589 - val_accuracy: 0.8945\n",
      "Epoch 3/200\n",
      "905/905 [==============================] - 5s 5ms/step - loss: 0.2588 - accuracy: 0.8938 - val_loss: 0.2519 - val_accuracy: 0.8980\n",
      "Epoch 4/200\n",
      "905/905 [==============================] - 5s 5ms/step - loss: 0.2525 - accuracy: 0.8952 - val_loss: 0.2464 - val_accuracy: 0.8995\n",
      "Epoch 5/200\n",
      "905/905 [==============================] - 4s 5ms/step - loss: 0.2469 - accuracy: 0.8961 - val_loss: 0.2412 - val_accuracy: 0.9002\n",
      "Epoch 6/200\n",
      "905/905 [==============================] - 5s 5ms/step - loss: 0.2412 - accuracy: 0.8978 - val_loss: 0.2359 - val_accuracy: 0.9023\n",
      "Epoch 7/200\n",
      "905/905 [==============================] - 4s 5ms/step - loss: 0.2356 - accuracy: 0.9000 - val_loss: 0.2305 - val_accuracy: 0.9024\n",
      "Epoch 8/200\n",
      "905/905 [==============================] - 5s 5ms/step - loss: 0.2302 - accuracy: 0.9014 - val_loss: 0.2254 - val_accuracy: 0.9039\n",
      "Epoch 9/200\n",
      "905/905 [==============================] - 4s 5ms/step - loss: 0.2256 - accuracy: 0.9021 - val_loss: 0.2217 - val_accuracy: 0.9039\n",
      "Epoch 10/200\n",
      "905/905 [==============================] - 5s 5ms/step - loss: 0.2216 - accuracy: 0.9024 - val_loss: 0.2187 - val_accuracy: 0.9024\n",
      "Epoch 11/200\n",
      "905/905 [==============================] - 5s 5ms/step - loss: 0.2185 - accuracy: 0.9033 - val_loss: 0.2167 - val_accuracy: 0.9030\n",
      "Epoch 12/200\n",
      "905/905 [==============================] - 4s 5ms/step - loss: 0.2159 - accuracy: 0.9035 - val_loss: 0.2145 - val_accuracy: 0.9054\n",
      "Epoch 13/200\n",
      "905/905 [==============================] - 4s 5ms/step - loss: 0.2134 - accuracy: 0.9050 - val_loss: 0.2128 - val_accuracy: 0.9049\n",
      "Epoch 14/200\n",
      "905/905 [==============================] - 5s 5ms/step - loss: 0.2116 - accuracy: 0.9059 - val_loss: 0.2112 - val_accuracy: 0.9061\n",
      "Epoch 15/200\n",
      "905/905 [==============================] - 5s 5ms/step - loss: 0.2096 - accuracy: 0.9064 - val_loss: 0.2107 - val_accuracy: 0.9036\n",
      "Epoch 16/200\n",
      "905/905 [==============================] - 5s 5ms/step - loss: 0.2081 - accuracy: 0.9062 - val_loss: 0.2106 - val_accuracy: 0.9039\n",
      "Epoch 17/200\n",
      "905/905 [==============================] - 5s 5ms/step - loss: 0.2067 - accuracy: 0.9083 - val_loss: 0.2086 - val_accuracy: 0.9075\n",
      "Epoch 18/200\n",
      "905/905 [==============================] - 4s 5ms/step - loss: 0.2055 - accuracy: 0.9078 - val_loss: 0.2085 - val_accuracy: 0.9064\n",
      "Epoch 19/200\n",
      "905/905 [==============================] - 5s 5ms/step - loss: 0.2040 - accuracy: 0.9087 - val_loss: 0.2086 - val_accuracy: 0.9060\n",
      "Epoch 20/200\n",
      "905/905 [==============================] - 4s 5ms/step - loss: 0.2030 - accuracy: 0.9086 - val_loss: 0.2060 - val_accuracy: 0.9066\n",
      "Epoch 21/200\n",
      "905/905 [==============================] - 4s 5ms/step - loss: 0.2017 - accuracy: 0.9101 - val_loss: 0.2067 - val_accuracy: 0.9050\n",
      "Epoch 22/200\n",
      "905/905 [==============================] - 5s 5ms/step - loss: 0.2005 - accuracy: 0.9102 - val_loss: 0.2053 - val_accuracy: 0.9063\n",
      "Epoch 23/200\n",
      "905/905 [==============================] - 5s 5ms/step - loss: 0.1999 - accuracy: 0.9096 - val_loss: 0.2044 - val_accuracy: 0.9072\n",
      "Epoch 24/200\n",
      "905/905 [==============================] - 5s 5ms/step - loss: 0.1988 - accuracy: 0.9106 - val_loss: 0.2047 - val_accuracy: 0.9060\n",
      "Epoch 25/200\n",
      "905/905 [==============================] - 5s 5ms/step - loss: 0.1979 - accuracy: 0.9109 - val_loss: 0.2040 - val_accuracy: 0.9064\n",
      "Epoch 26/200\n",
      "905/905 [==============================] - 5s 5ms/step - loss: 0.1968 - accuracy: 0.9107 - val_loss: 0.2040 - val_accuracy: 0.9083\n",
      "Epoch 27/200\n",
      "905/905 [==============================] - 5s 6ms/step - loss: 0.1956 - accuracy: 0.9117 - val_loss: 0.2043 - val_accuracy: 0.9052\n",
      "Epoch 28/200\n",
      "905/905 [==============================] - 5s 5ms/step - loss: 0.1949 - accuracy: 0.9120 - val_loss: 0.2041 - val_accuracy: 0.9050\n",
      "Epoch 29/200\n",
      "905/905 [==============================] - 5s 5ms/step - loss: 0.1940 - accuracy: 0.9121 - val_loss: 0.2028 - val_accuracy: 0.9046\n",
      "Epoch 30/200\n",
      "905/905 [==============================] - 4s 5ms/step - loss: 0.1933 - accuracy: 0.9125 - val_loss: 0.2028 - val_accuracy: 0.9068\n",
      "Epoch 31/200\n",
      "905/905 [==============================] - 4s 5ms/step - loss: 0.1922 - accuracy: 0.9121 - val_loss: 0.2038 - val_accuracy: 0.9027\n",
      "Epoch 32/200\n",
      "905/905 [==============================] - 5s 5ms/step - loss: 0.1916 - accuracy: 0.9128 - val_loss: 0.2055 - val_accuracy: 0.9039\n",
      "Epoch 33/200\n",
      "905/905 [==============================] - 5s 5ms/step - loss: 0.1908 - accuracy: 0.9129 - val_loss: 0.2026 - val_accuracy: 0.9068\n",
      "Epoch 34/200\n",
      "905/905 [==============================] - 5s 5ms/step - loss: 0.1899 - accuracy: 0.9137 - val_loss: 0.2037 - val_accuracy: 0.9036\n",
      "Epoch 35/200\n",
      "905/905 [==============================] - 5s 5ms/step - loss: 0.1892 - accuracy: 0.9136 - val_loss: 0.2057 - val_accuracy: 0.9049\n",
      "Epoch 36/200\n",
      "905/905 [==============================] - 5s 5ms/step - loss: 0.1884 - accuracy: 0.9145 - val_loss: 0.2023 - val_accuracy: 0.9063\n",
      "Epoch 37/200\n",
      "905/905 [==============================] - 4s 5ms/step - loss: 0.1873 - accuracy: 0.9158 - val_loss: 0.2125 - val_accuracy: 0.9042\n",
      "Epoch 38/200\n",
      "905/905 [==============================] - 5s 5ms/step - loss: 0.1866 - accuracy: 0.9148 - val_loss: 0.2019 - val_accuracy: 0.9054\n",
      "Epoch 39/200\n",
      "905/905 [==============================] - 4s 5ms/step - loss: 0.1861 - accuracy: 0.9152 - val_loss: 0.2027 - val_accuracy: 0.9043\n",
      "Epoch 40/200\n",
      "905/905 [==============================] - 5s 5ms/step - loss: 0.1852 - accuracy: 0.9163 - val_loss: 0.2042 - val_accuracy: 0.9027\n",
      "Epoch 41/200\n",
      "905/905 [==============================] - 5s 5ms/step - loss: 0.1845 - accuracy: 0.9156 - val_loss: 0.2019 - val_accuracy: 0.9063\n",
      "Epoch 42/200\n",
      "905/905 [==============================] - 5s 5ms/step - loss: 0.1834 - accuracy: 0.9166 - val_loss: 0.2028 - val_accuracy: 0.9063\n",
      "Epoch 43/200\n",
      "905/905 [==============================] - 4s 5ms/step - loss: 0.1834 - accuracy: 0.9171 - val_loss: 0.2008 - val_accuracy: 0.9063\n",
      "Epoch 44/200\n",
      "905/905 [==============================] - 4s 5ms/step - loss: 0.1824 - accuracy: 0.9172 - val_loss: 0.2027 - val_accuracy: 0.9048\n",
      "Epoch 45/200\n",
      "905/905 [==============================] - 4s 5ms/step - loss: 0.1819 - accuracy: 0.9169 - val_loss: 0.2027 - val_accuracy: 0.9066\n",
      "Epoch 46/200\n",
      "905/905 [==============================] - 4s 5ms/step - loss: 0.1808 - accuracy: 0.9181 - val_loss: 0.2121 - val_accuracy: 0.9036\n",
      "Epoch 47/200\n",
      "905/905 [==============================] - 4s 5ms/step - loss: 0.1804 - accuracy: 0.9187 - val_loss: 0.2043 - val_accuracy: 0.9019\n",
      "time: 3min 35s\n"
     ]
    }
   ],
   "source": [
    "import os\n",
    "import time\n",
    "\n",
    "run_id = time.strftime(\"run_%Y_%m_%d-%H_%M_%S\")\n",
    "root_logdir = os.path.join(os.curdir,\"logs\")\n",
    "run_logdir = os.path.join(root_logdir,run_id)\n",
    "print(\"logdir = \",run_logdir)\n",
    "\n",
    "# para salvar os logs necessários ao uso do TensorBoard\n",
    "tensorboard_cb = keras.callbacks.TensorBoard(run_logdir)\n",
    "\n",
    "# para forçar o treinamento a parar antecipadamente quando não houver progresso na minimização de erro\n",
    "early_stopping_cb = keras.callbacks.EarlyStopping(patience=4,restore_best_weights=True)\n",
    "\n",
    "# para alvar periodicamente o modelo treinado e poder recomeçar o treinamento em caso de pane no meio do treinamento\n",
    "checkpoint_cb     = keras.callbacks.ModelCheckpoint(\"modelDW-AcidentesTransitoPOA.h5\") # Arquivo formato HDF5\n",
    "\n",
    "history = modelDW.fit(X_treino, \n",
    "                      y_treino, \n",
    "                      epochs=200, \n",
    "                      validation_split=0.2,\n",
    "                      callbacks=[early_stopping_cb, \n",
    "                                 checkpoint_cb,\n",
    "                                 tensorboard_cb])\n",
    "\n",
    "# para acompanhar o treinamento pelo TensorBoar:\n",
    "# 1 - Rodar no console o seguinte comando dentro do diretorio do projeto: tensorboard --logdir=.\\logs --port=6006\n",
    "# 2 - Depois abrir a seguinte página em outra aba do navegador: http://localhost:6006/\n",
    "\n",
    "# Pode ser usado o seguinte método para salvar manualmente um modelo:\n",
    "# modelDW.save(\"modelDW-AcidentesTransitoPOA.h5\")\n",
    "\n",
    "# Pode ser usado o seguinte método para recuperação do modelo treinado:\n",
    "# modelDW = keras.models.load_model(\"modelDW-AcidentesTransitoPOA.h5\")"
   ]
  },
  {
   "cell_type": "code",
   "execution_count": null,
   "metadata": {
    "colab": {
     "base_uri": "https://localhost:8080/",
     "height": 136
    },
    "colab_type": "code",
    "id": "Uv4r2SwHccMw",
    "outputId": "8822b501-69eb-4871-8a09-66ec08ae8c32"
   },
   "outputs": [
    {
     "data": {
      "text/plain": [
       "array([[0.0002132 ],\n",
       "       [0.00026943],\n",
       "       [0.19082846],\n",
       "       ...,\n",
       "       [0.00603244],\n",
       "       [0.00054877],\n",
       "       [0.00157845]], dtype=float32)"
      ]
     },
     "execution_count": 42,
     "metadata": {
      "tags": []
     },
     "output_type": "execute_result"
    },
    {
     "name": "stdout",
     "output_type": "stream",
     "text": [
      "time: 331 ms\n"
     ]
    }
   ],
   "source": [
    "y_previsto_rna_proba = modelDW.predict(X_teste)\n",
    "y_previsto_rna_proba"
   ]
  },
  {
   "cell_type": "code",
   "execution_count": null,
   "metadata": {
    "colab": {
     "base_uri": "https://localhost:8080/",
     "height": 136
    },
    "colab_type": "code",
    "id": "43w6PvKXcdCA",
    "outputId": "760558be-62f4-49fb-cc45-8abbe54e3c67"
   },
   "outputs": [
    {
     "data": {
      "text/plain": [
       "array([[False],\n",
       "       [False],\n",
       "       [False],\n",
       "       ...,\n",
       "       [False],\n",
       "       [False],\n",
       "       [False]])"
      ]
     },
     "execution_count": 43,
     "metadata": {
      "tags": []
     },
     "output_type": "execute_result"
    },
    {
     "name": "stdout",
     "output_type": "stream",
     "text": [
      "time: 3.29 ms\n"
     ]
    }
   ],
   "source": [
    "y_previsto_rna = y_previsto_rna_proba > 0.5\n",
    "y_previsto_rna"
   ]
  },
  {
   "cell_type": "code",
   "execution_count": null,
   "metadata": {
    "colab": {
     "base_uri": "https://localhost:8080/",
     "height": 119
    },
    "colab_type": "code",
    "id": "gkJ800h_cekt",
    "outputId": "c4720b56-1604-459e-f64d-4f89a754d607"
   },
   "outputs": [
    {
     "name": "stdout",
     "output_type": "stream",
     "text": [
      "RNA D&W:\n",
      "Acurácia:  0.9063363927900033\n",
      "Precisão:  0.625\n",
      "Recall:    0.5591200733272227\n",
      "F1 Score:  0.5902273826802129\n",
      "time: 23 ms\n"
     ]
    }
   ],
   "source": [
    "print(\"RNA D&W:\")\n",
    "print(\"Acurácia: \", accuracy_score(y_teste,y_previsto_rna))\n",
    "print(\"Precisão: \", precision_score(y_teste,y_previsto_rna))\n",
    "print(\"Recall:   \", recall_score(y_teste,y_previsto_rna))\n",
    "print(\"F1 Score: \", f1_score(y_teste,y_previsto_rna))"
   ]
  }
 ],
 "metadata": {
  "accelerator": "GPU",
  "colab": {
   "collapsed_sections": [],
   "name": "TF - Mateus e Paulo.ipynb",
   "provenance": [],
   "toc_visible": true
  },
  "kernelspec": {
   "display_name": "Python 3",
   "language": "python",
   "name": "python3"
  },
  "language_info": {
   "codemirror_mode": {
    "name": "ipython",
    "version": 3
   },
   "file_extension": ".py",
   "mimetype": "text/x-python",
   "name": "python",
   "nbconvert_exporter": "python",
   "pygments_lexer": "ipython3",
   "version": "3.8.2"
  }
 },
 "nbformat": 4,
 "nbformat_minor": 1
}
